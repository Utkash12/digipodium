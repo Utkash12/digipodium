{
 "cells": [
  {
   "cell_type": "code",
   "execution_count": 3,
   "metadata": {},
   "outputs": [
    {
     "name": "stdout",
     "output_type": "stream",
     "text": [
      "apple\n",
      "Alcazar\n",
      "164 new shubhamcity,\n",
      "krishna nagar,\n",
      "lucknow\n"
     ]
    }
   ],
   "source": [
    "a='apple'\n",
    "name=\"Alcazar\"\n",
    "address= '''164 new shubhamcity,\n",
    "krishna nagar,\n",
    "lucknow'''\n",
    "print(a)\n",
    "print(name)\n",
    "print(address)\n",
    "addr= r''\n",
    "# raw string"
   ]
  },
  {
   "cell_type": "code",
   "execution_count": 4,
   "metadata": {},
   "outputs": [],
   "source": [
    "# enumerate"
   ]
  },
  {
   "cell_type": "code",
   "execution_count": 5,
   "metadata": {},
   "outputs": [
    {
     "name": "stdout",
     "output_type": "stream",
     "text": [
      "0 A\n",
      "1 l\n",
      "2 c\n",
      "3 a\n",
      "4 z\n",
      "5 a\n",
      "6 r\n"
     ]
    }
   ],
   "source": [
    "for i,c in enumerate(name):\n",
    "    print(i,c)"
   ]
  },
  {
   "cell_type": "code",
   "execution_count": 6,
   "metadata": {},
   "outputs": [
    {
     "name": "stdout",
     "output_type": "stream",
     "text": [
      "e p\n"
     ]
    }
   ],
   "source": [
    "print(name[-1],a[-3])"
   ]
  },
  {
   "cell_type": "code",
   "execution_count": 14,
   "metadata": {},
   "outputs": [
    {
     "name": "stdout",
     "output_type": "stream",
     "text": [
      "caza\n",
      "razaclA\n",
      "Aczr\n",
      "Alca\n",
      "cazar\n"
     ]
    }
   ],
   "source": [
    "print(name[-5:-1])\n",
    "print(name[::-1])\n",
    "print(name[::2])\n",
    "print(name[:4])\n",
    "print(name[-5:])"
   ]
  },
  {
   "cell_type": "code",
   "execution_count": 15,
   "metadata": {},
   "outputs": [],
   "source": [
    "# print(name[start:end:step])"
   ]
  },
  {
   "cell_type": "code",
   "execution_count": 17,
   "metadata": {},
   "outputs": [
    {
     "name": "stdout",
     "output_type": "stream",
     "text": [
      "You should study and play 📖\n",
      "YOU SHOULD STUDY AND PLAY 📖\n",
      "you should study and play 📖\n",
      "You Should Study And Play 📖\n",
      "You should study and play 📖\n",
      "yOU SHOULD STUDY AND PLAY 📖\n"
     ]
    }
   ],
   "source": [
    "msg=\"You should study and play 📖\"\n",
    "print(msg)\n",
    "print(msg.upper())\n",
    "print(msg.lower())\n",
    "print(msg.title())\n",
    "print(msg.capitalize())\n",
    "print(msg.swapcase())"
   ]
  },
  {
   "cell_type": "code",
   "execution_count": 23,
   "metadata": {},
   "outputs": [
    {
     "name": "stdout",
     "output_type": "stream",
     "text": [
      "False\n",
      "False\n",
      "True\n",
      "True\n",
      "\n",
      "\n",
      "False\n",
      "True\n",
      "True\n",
      "True\n",
      "\n",
      "\n",
      "True\n",
      "False\n",
      "False\n",
      "\n",
      "\n",
      "True\n",
      "False\n"
     ]
    }
   ],
   "source": [
    "print(msg.isupper())\n",
    "print(msg.islower())\n",
    "print('123'.isnumeric())\n",
    "print('123'.isdigit())\n",
    "print('\\n')\n",
    "print('123'.isalpha())\n",
    "print('123'.isalnum())\n",
    "print('abc'.isalpha())\n",
    "print('abc'.isalnum())\n",
    "print('\\n')\n",
    "print('abc123'.isalnum())\n",
    "print('abc123'.isalpha())\n",
    "print('abc123'.isdigit())\n",
    "print('\\n')\n",
    "print('Mr Raja'.startswith('Mr'))\n",
    "print('Mr Raja'.endswith('Mr'))"
   ]
  },
  {
   "cell_type": "code",
   "execution_count": 24,
   "metadata": {},
   "outputs": [
    {
     "name": "stdout",
     "output_type": "stream",
     "text": [
      "you have given a python file\n",
      "from turtle import *\n",
      "\n",
      "fd(150)\n",
      "lt(45)\n",
      "fd(50)\n",
      "rt(45)\n",
      "bk(100)\n",
      "rt(45)\n",
      "fd(25)\n",
      "mainloop() # hold the window open\n"
     ]
    }
   ],
   "source": [
    "file=input('Enter file name: ')\n",
    "if file.endswith('.py'):\n",
    "    print('you have given a python file')\n",
    "    content= open(file).read()\n",
    "    print(content)\n",
    "else:\n",
    "    print('you have given me something else')\n",
    "    print('shame on you 😡')"
   ]
  },
  {
   "cell_type": "code",
   "execution_count": 25,
   "metadata": {},
   "outputs": [
    {
     "name": "stdout",
     "output_type": "stream",
     "text": [
      "8\n"
     ]
    }
   ],
   "source": [
    "qoute=\"Journey Before Destination\"\n",
    "print(qoute.find('Before'))"
   ]
  },
  {
   "cell_type": "code",
   "execution_count": 26,
   "metadata": {},
   "outputs": [
    {
     "data": {
      "text/plain": [
       "1"
      ]
     },
     "execution_count": 26,
     "metadata": {},
     "output_type": "execute_result"
    }
   ],
   "source": [
    "qoute.find('our')"
   ]
  },
  {
   "cell_type": "code",
   "execution_count": 28,
   "metadata": {},
   "outputs": [
    {
     "data": {
      "text/plain": [
       "-1"
      ]
     },
     "execution_count": 28,
     "metadata": {},
     "output_type": "execute_result"
    }
   ],
   "source": [
    "qoute.find('x',10)"
   ]
  },
  {
   "cell_type": "code",
   "execution_count": 29,
   "metadata": {},
   "outputs": [
    {
     "data": {
      "text/plain": [
       "'Journay Bafora Dastination'"
      ]
     },
     "execution_count": 29,
     "metadata": {},
     "output_type": "execute_result"
    }
   ],
   "source": [
    "qoute.replace('e','a')"
   ]
  },
  {
   "cell_type": "code",
   "execution_count": 30,
   "metadata": {},
   "outputs": [
    {
     "data": {
      "text/plain": [
       "'Travelling to Destination'"
      ]
     },
     "execution_count": 30,
     "metadata": {},
     "output_type": "execute_result"
    }
   ],
   "source": [
    "qoute.replace('Journey','Travelling').replace('Before','to')"
   ]
  },
  {
   "cell_type": "code",
   "execution_count": 31,
   "metadata": {},
   "outputs": [
    {
     "data": {
      "text/plain": [
       "'299990'"
      ]
     },
     "execution_count": 31,
     "metadata": {},
     "output_type": "execute_result"
    }
   ],
   "source": [
    "amt='₹299,990 ruppees'\n",
    "amt.replace('₹','').replace(',','').replace(' ruppees','')"
   ]
  },
  {
   "cell_type": "code",
   "execution_count": 37,
   "metadata": {},
   "outputs": [
    {
     "name": "stdout",
     "output_type": "stream",
     "text": [
      "₹299990ruppees\n"
     ]
    }
   ],
   "source": [
    "chars=['$',',','dollars',' ']\n",
    "for crap in chars:\n",
    "    amt= amt.replace(crap,'')\n",
    "print(amt)"
   ]
  },
  {
   "cell_type": "code",
   "execution_count": 34,
   "metadata": {},
   "outputs": [
    {
     "data": {
      "text/plain": [
       "['we are here', 'we are there', ' and everywhere']"
      ]
     },
     "execution_count": 34,
     "metadata": {},
     "output_type": "execute_result"
    }
   ],
   "source": [
    "msg2=\"we are here,we are there, and everywhere\"\n",
    "msg2.split(',')"
   ]
  },
  {
   "cell_type": "code",
   "execution_count": 38,
   "metadata": {},
   "outputs": [
    {
     "data": {
      "text/plain": [
       "['Twinkle,',\n",
       " 'twinkle,',\n",
       " 'little',\n",
       " 'star,',\n",
       " 'How',\n",
       " 'I',\n",
       " 'wonder',\n",
       " 'what',\n",
       " 'you',\n",
       " 'are!',\n",
       " 'Up',\n",
       " 'above',\n",
       " 'the',\n",
       " 'world',\n",
       " 'so',\n",
       " 'high,',\n",
       " 'Like',\n",
       " 'a',\n",
       " 'diamond',\n",
       " 'in',\n",
       " 'the',\n",
       " 'sky.']"
      ]
     },
     "execution_count": 38,
     "metadata": {},
     "output_type": "execute_result"
    }
   ],
   "source": [
    "poem=\"\"\"Twinkle, twinkle, little star,\n",
    "How I wonder what you are!\n",
    "Up above the world so high,\n",
    "Like a diamond in the sky.\"\"\"\n",
    "poem.split()"
   ]
  },
  {
   "cell_type": "code",
   "execution_count": null,
   "metadata": {},
   "outputs": [],
   "source": []
  }
 ],
 "metadata": {
  "kernelspec": {
   "display_name": "base",
   "language": "python",
   "name": "python3"
  },
  "language_info": {
   "codemirror_mode": {
    "name": "ipython",
    "version": 3
   },
   "file_extension": ".py",
   "mimetype": "text/x-python",
   "name": "python",
   "nbconvert_exporter": "python",
   "pygments_lexer": "ipython3",
   "version": "3.10.10"
  },
  "orig_nbformat": 4
 },
 "nbformat": 4,
 "nbformat_minor": 2
}
