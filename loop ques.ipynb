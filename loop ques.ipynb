{
 "cells": [
  {
   "cell_type": "code",
   "execution_count": 1,
   "metadata": {},
   "outputs": [
    {
     "name": "stdout",
     "output_type": "stream",
     "text": [
      "1\n",
      "2\n",
      "3\n",
      "4\n",
      "5\n",
      "6\n",
      "7\n",
      "8\n",
      "9\n",
      "10\n"
     ]
    }
   ],
   "source": [
    "# program fo numbers 1 to 10 usinf for loop\n",
    "for i in range(1,11):\n",
    "    print(i)"
   ]
  },
  {
   "cell_type": "code",
   "execution_count": 3,
   "metadata": {},
   "outputs": [
    {
     "name": "stdout",
     "output_type": "stream",
     "text": [
      "15   *  1    =   15\n",
      "15   *  2    =   30\n",
      "15   *  3    =   45\n",
      "15   *  4    =   60\n",
      "15   *  5    =   75\n",
      "15   *  6    =   90\n",
      "15   *  7    =  105\n",
      "15   *  8    =  120\n",
      "15   *  9    =  135\n",
      "15   *  10   =  150\n"
     ]
    }
   ],
   "source": [
    "# program to print table using while loop\n",
    "n=int(input(\"Enter the number for table\"))\n",
    "i=1\n",
    "while i<=10:\n",
    "    print(f\"{n:<5}*  {i:<5}={i*n:>5}\")\n",
    "    i=i+1"
   ]
  },
  {
   "cell_type": "code",
   "execution_count": 6,
   "metadata": {},
   "outputs": [
    {
     "name": "stdout",
     "output_type": "stream",
     "text": [
      "The sum of even numbers from 1 to 100 is 2550\n"
     ]
    }
   ],
   "source": [
    "# sum of even numbers from 1 to 100\n",
    "n=0\n",
    "for i in range(2,101,2):\n",
    "    n=n+i\n",
    "print(\"The sum of even numbers from 1 to 100 is\",n)    "
   ]
  },
  {
   "cell_type": "code",
   "execution_count": 17,
   "metadata": {},
   "outputs": [
    {
     "name": "stdout",
     "output_type": "stream",
     "text": [
      "2550\n"
     ]
    }
   ],
   "source": [
    "# sum of even numbers from 1 to 100\n",
    "n=0\n",
    "for i in range(1,101):\n",
    "    if i%2==0:\n",
    "        n=n+i\n",
    "print(n)\n",
    "\n",
    "\n",
    "   "
   ]
  },
  {
   "cell_type": "code",
   "execution_count": 18,
   "metadata": {},
   "outputs": [
    {
     "name": "stdout",
     "output_type": "stream",
     "text": [
      "The number is prime.\n"
     ]
    }
   ],
   "source": [
    "# to check whether a number is prime or not\n",
    "n=int(input(\"Enter the number to be checked: \"))\n",
    "flag= False\n",
    "for i in range(2,n-1):\n",
    "    if n%i==0:\n",
    "        flag=True\n",
    "        break\n",
    "if flag==True:\n",
    "    print(\"The number is not prime.\")\n",
    "else:\n",
    "    print(\"The number is prime.\")\n"
   ]
  },
  {
   "cell_type": "code",
   "execution_count": 19,
   "metadata": {},
   "outputs": [
    {
     "name": "stdout",
     "output_type": "stream",
     "text": [
      "The number is not prime.\n"
     ]
    }
   ],
   "source": [
    "# to check whether a number is prime or not\n",
    "n=int(input(\"Enter the number to be checked: \"))\n",
    "flag= False\n",
    "i=2\n",
    "while i<n:\n",
    "    if n%i==0:\n",
    "        flag=True\n",
    "        break\n",
    "    i=i+1\n",
    "if flag==True:\n",
    "    print(\"The number is not prime.\")\n",
    "else:\n",
    "    print(\"The number is prime.\")\n"
   ]
  },
  {
   "cell_type": "code",
   "execution_count": 20,
   "metadata": {},
   "outputs": [],
   "source": [
    "def isprime(n):\n",
    "    flag=False\n",
    "    for i in range(2,n):\n",
    "        if n%i==0:\n",
    "            flag=True\n",
    "            break\n",
    "        else:\n",
    "            flag=False\n",
    "\n",
    "num=int(input(\"Enter the last limit to be checked: \"))\n",
    "for x in range(2,num):\n",
    "    if(isprime(x)):\n",
    "        print(x)"
   ]
  },
  {
   "cell_type": "code",
   "execution_count": 27,
   "metadata": {},
   "outputs": [],
   "source": [
    "# to print prime numbers from 1 to 100\n",
    "def isprime(n):\n",
    "    flag=False\n",
    "    for i in range(2,n):\n",
    "        if n%i==0:\n",
    "            flag=True\n",
    "            break\n",
    "    else:\n",
    "        flag=False\n",
    "num=int(input(\"Enter the last limit to be checked: \"))\n",
    "for x in range(2,num):\n",
    "    if(isprime(x)):\n",
    "        print(x ,end=\" \")\n",
    "        "
   ]
  },
  {
   "cell_type": "code",
   "execution_count": 23,
   "metadata": {},
   "outputs": [
    {
     "name": "stdout",
     "output_type": "stream",
     "text": [
      "1 2 3 5 7 11 13 17 19 23 29 31 37 41 43 47 53 59 61 67 71 73 79 83 89 97 "
     ]
    }
   ],
   "source": [
    "# to check prime numbers from 1 to 100\n",
    "def isPrime(n):\n",
    "  for i in range(2,n):\n",
    "    if(n%i==0):\n",
    "      return False\n",
    "  return True\n",
    "N = 100;\n",
    "for i in range(1,N+1):\n",
    "  if(isPrime(i)):\n",
    "    print(i,end=\" \")"
   ]
  },
  {
   "cell_type": "code",
   "execution_count": 28,
   "metadata": {},
   "outputs": [
    {
     "name": "stdout",
     "output_type": "stream",
     "text": [
      "2 3 5 7 11 13 17 19 23 29 31 37 41 43 47 "
     ]
    }
   ],
   "source": [
    "# to check n prime numbers\n",
    "limit=int(input(\"Enter the limit\"))\n",
    "for i in range(2,limit):\n",
    "    flag=False\n",
    "    for check in range(2,i):\n",
    "        if i % check==0:\n",
    "            flag=True\n",
    "            break\n",
    "    if flag==False:\n",
    "        print(i,end=\" \")"
   ]
  },
  {
   "cell_type": "code",
   "execution_count": 44,
   "metadata": {},
   "outputs": [
    {
     "name": "stdout",
     "output_type": "stream",
     "text": [
      "2 3 5 7 The sum of prime numbers is 17\n"
     ]
    }
   ],
   "source": [
    "# to check n prime numbers\n",
    "limit=int(input(\"Enter the limit\"))\n",
    "sum=0\n",
    "for i in range(2,limit):\n",
    "    flag=False\n",
    "    for check in range(2,i):\n",
    "        if i % check==0:\n",
    "            flag=True\n",
    "            break\n",
    "    if flag==False:\n",
    "        print(i,end=\" \")\n",
    "        sum=sum+i\n",
    "print(\"The sum of prime numbers is\",sum)"
   ]
  },
  {
   "cell_type": "code",
   "execution_count": 52,
   "metadata": {},
   "outputs": [
    {
     "name": "stdout",
     "output_type": "stream",
     "text": [
      "2 3 5 7 11 13 17 19 23 29 31 37 41 43 47 The sum of prime numbers is 328\n"
     ]
    }
   ],
   "source": [
    "limit=int(input(\"Enter the limit\"))\n",
    "sum=0\n",
    "for seq in range (2,limit):\n",
    "    flag=False\n",
    "    for check in range(2,seq):\n",
    "        if seq%check==0:\n",
    "            flag=True\n",
    "            break\n",
    "    if flag==False:\n",
    "        print(seq, end=\" \")\n",
    "        sum=sum+seq\n",
    "print(\"The sum of prime numbers is\",sum)"
   ]
  },
  {
   "cell_type": "code",
   "execution_count": 55,
   "metadata": {},
   "outputs": [
    {
     "name": "stdout",
     "output_type": "stream",
     "text": [
      "2 3 5 7 11 13 17 19 23 29 31 37 41 43 47 53 59 61 67 71 73 79 83 89 97 101 103 107 109 113 127 131 137 139 149 151 157 163 167 173 179 181 191 193 197 199 211 223 227 229 233 239 241 251 257 263 269 271 277 281 283 293 307 311 313 317 331 337 347 349 353 359 367 373 379 383 389 397 401 409 419 421 431 433 439 443 449 457 461 463 467 479 487 491 499 503 509 521 523 541 547 557 563 569 571 577 587 593 599 601 607 613 617 619 631 641 643 647 653 659 661 673 677 683 691 701 709 719 727 733 739 743 751 757 761 769 773 787 797 809 811 821 823 827 829 839 853 857 859 863 877 881 883 887 907 911 919 929 937 941 947 953 967 971 977 983 991 997 The sum of prime numbers is 2\n"
     ]
    }
   ],
   "source": [
    "# to print sum of even n prime numbers\n",
    "limit=int(input(\"Enter the limit\"))\n",
    "sum=0\n",
    "for i in range(2,limit):\n",
    "    flag=False\n",
    "    for check in range(2,i):\n",
    "        if i % check==0:\n",
    "            flag=True\n",
    "            break\n",
    "    if flag==False:\n",
    "        print(i,end=\" \")\n",
    "        if i%2==0:\n",
    "            sum=sum+i\n",
    "print(\"The sum of prime numbers is\",sum)"
   ]
  },
  {
   "cell_type": "code",
   "execution_count": 57,
   "metadata": {},
   "outputs": [
    {
     "name": "stdout",
     "output_type": "stream",
     "text": [
      "The factorial will be 720\n"
     ]
    }
   ],
   "source": [
    "# to print the factorial of a number\n",
    "n=int(input(\"Enter the number for factorial.\"))\n",
    "fact=1\n",
    "while n>0:\n",
    "    fact=fact*n\n",
    "    n=n-1\n",
    "print(\"The factorial will be\",fact)"
   ]
  },
  {
   "cell_type": "code",
   "execution_count": 62,
   "metadata": {},
   "outputs": [
    {
     "name": "stdout",
     "output_type": "stream",
     "text": [
      "The factorial will be 720\n"
     ]
    }
   ],
   "source": [
    "#factorial using for loop\n",
    "n=int(input(\"Enter the number for factorial.\"))\n",
    "fact=1\n",
    "for i in range(1,n+1):\n",
    "    fact=fact*i\n",
    "print(\"The factorial will be\",fact)\n"
   ]
  },
  {
   "cell_type": "code",
   "execution_count": 66,
   "metadata": {},
   "outputs": [
    {
     "name": "stdout",
     "output_type": "stream",
     "text": [
      "0\n",
      "1\n",
      "1\n",
      "2\n",
      "3\n",
      "5\n",
      "8\n",
      "13\n",
      "21\n",
      "34\n"
     ]
    }
   ],
   "source": [
    "# fibonnaci series using while loop\n",
    "nterms = int(input(\"How many terms? \"))\n",
    "n1, n2 = 0, 1\n",
    "count = 0\n",
    "while count < nterms:\n",
    "    print(n1)\n",
    "    nth = n1 + n2\n",
    "    n1 = n2\n",
    "    n2 = nth\n",
    "    count += 1"
   ]
  },
  {
   "cell_type": "code",
   "execution_count": 69,
   "metadata": {},
   "outputs": [
    {
     "name": "stdout",
     "output_type": "stream",
     "text": [
      "1, 2, 3, 5, 8, 13, 21, 34, 55, "
     ]
    }
   ],
   "source": [
    "# fibonnaci series using for loop\n",
    "n=int(input(\"Enter the limit for the fibonacci series\"))\n",
    "first=0\n",
    "second=1\n",
    "for i in range(2,n+1):\n",
    "    third=first+second\n",
    "    first=second\n",
    "    second=third\n",
    "    print(third, end=\", \")"
   ]
  },
  {
   "cell_type": "code",
   "execution_count": 70,
   "metadata": {},
   "outputs": [
    {
     "name": "stdout",
     "output_type": "stream",
     "text": [
      "The new created array is :  1 2 3 \n",
      "\n",
      "The new created array is :  2.5 3.2 3.3 "
     ]
    }
   ],
   "source": [
    "import array as arr\n",
    "a = arr.array('i', [1, 2, 3])\n",
    "print(\"The new created array is : \", end=\" \")\n",
    "for i in range(0, 3):\n",
    "\tprint(a[i], end=\" \")\n",
    "print()\n",
    "b = arr.array('d', [2.5, 3.2, 3.3])\n",
    "print(\"\\nThe new created array is : \", end=\" \")\n",
    "for i in range(0, 3):\n",
    "\tprint(b[i], end=\" \")\n"
   ]
  },
  {
   "cell_type": "code",
   "execution_count": 73,
   "metadata": {},
   "outputs": [
    {
     "name": "stdout",
     "output_type": "stream",
     "text": [
      "1 2 3 4 5 \n",
      "After insertion\n",
      "1 2 6 3 4 5 "
     ]
    }
   ],
   "source": [
    "import array as arr\n",
    "val=arr.array('i',[1,2,3,4,5])\n",
    "for i in range(0,5):\n",
    "    print(val[i],end=\" \")\n",
    "val.insert(2,6)\n",
    "print(\"\\nAfter insertion\")\n",
    "for i in range(0,6):\n",
    "    print(val[i],end=\" \")"
   ]
  },
  {
   "cell_type": "code",
   "execution_count": 10,
   "metadata": {},
   "outputs": [
    {
     "name": "stdout",
     "output_type": "stream",
     "text": [
      "1221\n",
      "The number is palindrome.\n"
     ]
    }
   ],
   "source": [
    "# to check whether a number is palindrome or not\n",
    "n=int(input(\"Enter the number to be checked: \"))\n",
    "original=n\n",
    "rem=0\n",
    "num=0\n",
    "while n>0:\n",
    "    rem=n%10\n",
    "    num=num*10+rem\n",
    "    n=n//10\n",
    "print(num)\n",
    "if num==original:\n",
    "    print(\"The number is palindrome.\")\n",
    "else:\n",
    "    print(\"The number is not palindrome.\")"
   ]
  },
  {
   "cell_type": "code",
   "execution_count": 1,
   "metadata": {},
   "outputs": [
    {
     "name": "stdout",
     "output_type": "stream",
     "text": [
      "6\n"
     ]
    }
   ],
   "source": [
    "sum=0\n",
    "n=int(input(\"Enter the number to be checked: \"))\n",
    "while n>0:\n",
    "    rem=n%10\n",
    "    sum=sum+rem\n",
    "    n=n//10\n",
    "print(sum)"
   ]
  },
  {
   "cell_type": "code",
   "execution_count": 7,
   "metadata": {},
   "outputs": [
    {
     "name": "stdout",
     "output_type": "stream",
     "text": [
      "10\n"
     ]
    }
   ],
   "source": [
    "n=int(input(\"how many numbers to be added\"))\n",
    "sum=0\n",
    "for i in range (n):\n",
    "    num=int(input(\"enter the number to be added\"))\n",
    "    sum=sum+num\n",
    "print(sum)"
   ]
  },
  {
   "cell_type": "code",
   "execution_count": null,
   "metadata": {},
   "outputs": [],
   "source": []
  }
 ],
 "metadata": {
  "kernelspec": {
   "display_name": "base",
   "language": "python",
   "name": "python3"
  },
  "language_info": {
   "codemirror_mode": {
    "name": "ipython",
    "version": 3
   },
   "file_extension": ".py",
   "mimetype": "text/x-python",
   "name": "python",
   "nbconvert_exporter": "python",
   "pygments_lexer": "ipython3",
   "version": "3.10.10"
  },
  "orig_nbformat": 4
 },
 "nbformat": 4,
 "nbformat_minor": 2
}
