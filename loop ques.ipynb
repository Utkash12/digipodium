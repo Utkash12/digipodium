{
 "cells": [
  {
   "cell_type": "code",
   "execution_count": 1,
   "metadata": {},
   "outputs": [
    {
     "name": "stdout",
     "output_type": "stream",
     "text": [
      "1\n",
      "2\n",
      "3\n",
      "4\n",
      "5\n",
      "6\n",
      "7\n",
      "8\n",
      "9\n",
      "10\n"
     ]
    }
   ],
   "source": [
    "# program fo numbers 1 to 10 usinf for loop\n",
    "for i in range(1,11):\n",
    "    print(i)"
   ]
  },
  {
   "cell_type": "code",
   "execution_count": 3,
   "metadata": {},
   "outputs": [
    {
     "name": "stdout",
     "output_type": "stream",
     "text": [
      "15   *  1    =   15\n",
      "15   *  2    =   30\n",
      "15   *  3    =   45\n",
      "15   *  4    =   60\n",
      "15   *  5    =   75\n",
      "15   *  6    =   90\n",
      "15   *  7    =  105\n",
      "15   *  8    =  120\n",
      "15   *  9    =  135\n",
      "15   *  10   =  150\n"
     ]
    }
   ],
   "source": [
    "# program to print table using while loop\n",
    "n=int(input(\"Enter the number for table\"))\n",
    "i=1\n",
    "while i<=10:\n",
    "    print(f\"{n:<5}*  {i:<5}={i*n:>5}\")\n",
    "    i=i+1"
   ]
  },
  {
   "cell_type": "code",
   "execution_count": 6,
   "metadata": {},
   "outputs": [
    {
     "name": "stdout",
     "output_type": "stream",
     "text": [
      "The sum of even numbers from 1 to 100 is 2550\n"
     ]
    }
   ],
   "source": [
    "# sum of even numbers from 1 to 100\n",
    "n=0\n",
    "for i in range(2,101,2):\n",
    "    n=n+i\n",
    "print(\"The sum of even numbers from 1 to 100 is\",n)    "
   ]
  },
  {
   "cell_type": "code",
   "execution_count": 17,
   "metadata": {},
   "outputs": [
    {
     "name": "stdout",
     "output_type": "stream",
     "text": [
      "2550\n"
     ]
    }
   ],
   "source": [
    "# sum of even numbers from 1 to 100\n",
    "n=0\n",
    "for i in range(1,101):\n",
    "    if i%2==0:\n",
    "        n=n+i\n",
    "print(n)\n",
    "\n",
    "\n",
    "   "
   ]
  },
  {
   "cell_type": "code",
   "execution_count": null,
   "metadata": {},
   "outputs": [],
   "source": []
  }
 ],
 "metadata": {
  "kernelspec": {
   "display_name": "base",
   "language": "python",
   "name": "python3"
  },
  "language_info": {
   "codemirror_mode": {
    "name": "ipython",
    "version": 3
   },
   "file_extension": ".py",
   "mimetype": "text/x-python",
   "name": "python",
   "nbconvert_exporter": "python",
   "pygments_lexer": "ipython3",
   "version": "3.10.10"
  },
  "orig_nbformat": 4
 },
 "nbformat": 4,
 "nbformat_minor": 2
}
