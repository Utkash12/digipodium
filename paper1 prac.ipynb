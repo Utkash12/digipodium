{
 "cells": [
  {
   "cell_type": "code",
   "execution_count": 1,
   "metadata": {},
   "outputs": [
    {
     "data": {
      "text/plain": [
       "False"
      ]
     },
     "execution_count": 1,
     "metadata": {},
     "output_type": "execute_result"
    }
   ],
   "source": [
    "x=10\n",
    "y=\"10\"\n",
    "x==y"
   ]
  },
  {
   "cell_type": "code",
   "execution_count": 2,
   "metadata": {},
   "outputs": [
    {
     "data": {
      "text/plain": [
       "True"
      ]
     },
     "execution_count": 2,
     "metadata": {},
     "output_type": "execute_result"
    }
   ],
   "source": [
    "x=10\n",
    "y=10.0\n",
    "x==y"
   ]
  },
  {
   "cell_type": "code",
   "execution_count": 4,
   "metadata": {},
   "outputs": [
    {
     "data": {
      "text/plain": [
       "False"
      ]
     },
     "execution_count": 4,
     "metadata": {},
     "output_type": "execute_result"
    }
   ],
   "source": [
    "a=10.0\n",
    "b=\"10\"\n",
    "a==b"
   ]
  },
  {
   "cell_type": "code",
   "execution_count": 6,
   "metadata": {},
   "outputs": [
    {
     "name": "stdout",
     "output_type": "stream",
     "text": [
      "the length of fruoits will be 3\n"
     ]
    }
   ],
   "source": [
    "fruits=['banana','apple','pear']\n",
    "x=len(fruits)\n",
    "print(f\"the length of fruoits will be {x}\")"
   ]
  },
  {
   "cell_type": "code",
   "execution_count": 6,
   "metadata": {},
   "outputs": [
    {
     "name": "stdout",
     "output_type": "stream",
     "text": [
      "['banana', 'pear', 'apple']\n",
      "3\n"
     ]
    }
   ],
   "source": [
    "fruitstring=\"banana,pear,apple\"\n",
    "fruitlist=fruitstring.split(\",\")\n",
    "print(fruitlist)\n",
    "print(len(fruitlist))"
   ]
  },
  {
   "cell_type": "code",
   "execution_count": 5,
   "metadata": {},
   "outputs": [
    {
     "name": "stdout",
     "output_type": "stream",
     "text": [
      "17\n"
     ]
    }
   ],
   "source": [
    "fruu=\"banana,pear,apple\"\n",
    "print(len(fruu))"
   ]
  },
  {
   "cell_type": "code",
   "execution_count": 3,
   "metadata": {},
   "outputs": [
    {
     "name": "stdout",
     "output_type": "stream",
     "text": [
      "['b', 'n', 'n', ',pe', 'r,', 'pple']\n"
     ]
    }
   ],
   "source": [
    "fru=\"banana,pear,apple\"\n",
    "frulist=fru.split(\"a\")\n",
    "print(frulist)"
   ]
  },
  {
   "cell_type": "code",
   "execution_count": 12,
   "metadata": {},
   "outputs": [
    {
     "name": "stdout",
     "output_type": "stream",
     "text": [
      "['welcome', 'to', 'the', 'jungle']\n"
     ]
    }
   ],
   "source": [
    "txt = \"welcome to the jungle\"\n",
    "\n",
    "x = txt.split()\n",
    "\n",
    "print(x)"
   ]
  },
  {
   "cell_type": "code",
   "execution_count": 13,
   "metadata": {},
   "outputs": [
    {
     "name": "stdout",
     "output_type": "stream",
     "text": [
      "['hello', 'my name is Peter', 'I am 26 years old']\n"
     ]
    }
   ],
   "source": [
    "txt = \"hello, my name is Peter, I am 26 years old\"\n",
    "\n",
    "x = txt.split(\", \")\n",
    "\n",
    "print(x)"
   ]
  },
  {
   "cell_type": "code",
   "execution_count": 15,
   "metadata": {},
   "outputs": [
    {
     "name": "stdout",
     "output_type": "stream",
     "text": [
      "['helo,this', 'is,my', 'name,my', 'age,do', 'you', 'know']\n",
      "6\n"
     ]
    }
   ],
   "source": [
    "new_text=\"helo,this is,my name,my age,do you know\"\n",
    "x=new_text.split()\n",
    "print(x)\n",
    "y=len(x)\n",
    "print(y)"
   ]
  },
  {
   "cell_type": "code",
   "execution_count": 18,
   "metadata": {},
   "outputs": [
    {
     "name": "stdout",
     "output_type": "stream",
     "text": [
      "['heelo', 'i am', 'here', 'to represent']\n"
     ]
    }
   ],
   "source": [
    "texxt=\"heelo,i am,here,to represent\"\n",
    "z1=texxt.split(\",\")\n",
    "print(z1)"
   ]
  },
  {
   "cell_type": "code",
   "execution_count": 19,
   "metadata": {},
   "outputs": [
    {
     "name": "stdout",
     "output_type": "stream",
     "text": [
      "['h', 'llo i am h', 'r', ' to r', 'pr', 's', 'nt']\n"
     ]
    }
   ],
   "source": [
    "texxt=\"hello i am here to represent\"\n",
    "aa=texxt.split(\"e\")\n",
    "print(aa)"
   ]
  },
  {
   "cell_type": "code",
   "execution_count": 22,
   "metadata": {},
   "outputs": [
    {
     "name": "stdout",
     "output_type": "stream",
     "text": [
      "['This', 'is', 'the', 'first', 'text', 'to', 'be', 'printed']\n",
      "8\n"
     ]
    }
   ],
   "source": [
    "norm=\"This is the first text to be printed\"\n",
    "spp=norm.split(\" \")\n",
    "print(spp)\n",
    "spp1=len(spp)\n",
    "print(spp1)"
   ]
  },
  {
   "cell_type": "code",
   "execution_count": 2,
   "metadata": {},
   "outputs": [
    {
     "name": "stdout",
     "output_type": "stream",
     "text": [
      "['hi', 'this', 'is me', 'please', 'contact me']\n",
      "5\n"
     ]
    }
   ],
   "source": [
    "str=\"hi,this,is me,please,contact me\"\n",
    "norm=str.split(\",\")\n",
    "print(norm)\n",
    "print(len(norm))"
   ]
  },
  {
   "cell_type": "code",
   "execution_count": 17,
   "metadata": {},
   "outputs": [
    {
     "name": "stdout",
     "output_type": "stream",
     "text": [
      "['onetwothree']\n",
      "1\n"
     ]
    }
   ],
   "source": [
    "fruut=['one' 'two' 'three']\n",
    "print(fruut)\n",
    "print(len(fruut))"
   ]
  },
  {
   "cell_type": "code",
   "execution_count": 12,
   "metadata": {},
   "outputs": [
    {
     "name": "stdout",
     "output_type": "stream",
     "text": [
      "bananapearapple\n"
     ]
    }
   ],
   "source": [
    "fruitlist=['banana''pear' 'apple']\n",
    "delimiter=\",\"\n",
    "fruitstring=delimiter.join(fruitlist)\n",
    "print(fruitstring)"
   ]
  },
  {
   "cell_type": "code",
   "execution_count": 3,
   "metadata": {},
   "outputs": [
    {
     "name": "stdout",
     "output_type": "stream",
     "text": [
      "William Shakespeare\n",
      "John Shakespeare\n"
     ]
    }
   ],
   "source": [
    "obj1=\"William Shakespeare\"\n",
    "obj2=obj1.replace(\"William\",\"John\")\n",
    "print(obj1)\n",
    "print(obj2)"
   ]
  },
  {
   "cell_type": "code",
   "execution_count": 6,
   "metadata": {},
   "outputs": [
    {
     "name": "stdout",
     "output_type": "stream",
     "text": [
      "['hello', 'i', 'am', 'here', 'to', 'represent']\n",
      "6\n"
     ]
    }
   ],
   "source": [
    "state=\"hello i am here to represent\"\n",
    "state1=state.split(\" \")\n",
    "print(state1)\n",
    "print(len(state1))"
   ]
  },
  {
   "cell_type": "code",
   "execution_count": 10,
   "metadata": {},
   "outputs": [
    {
     "name": "stdout",
     "output_type": "stream",
     "text": [
      "one two three\n",
      "13\n",
      "['one', 'two', 'three']\n",
      "3\n"
     ]
    }
   ],
   "source": [
    "numbers=[\"one\",\"two\",\"three\"]\n",
    "a=\" \".join(numbers)\n",
    "print(a)\n",
    "print(len(a))\n",
    "print(numbers)\n",
    "print(len(numbers))"
   ]
  },
  {
   "cell_type": "code",
   "execution_count": 17,
   "metadata": {},
   "outputs": [
    {
     "name": "stdout",
     "output_type": "stream",
     "text": [
      "{'pear', 'apple', 'orange', 'banana'}\n"
     ]
    }
   ],
   "source": [
    "fruits={'banana','apple','pear'}\n",
    "fruits.add(\"orange\")\n",
    "print(fruits)"
   ]
  },
  {
   "cell_type": "code",
   "execution_count": 18,
   "metadata": {},
   "outputs": [
    {
     "name": "stdout",
     "output_type": "stream",
     "text": [
      "orange-blue-pink-red-yellow\n"
     ]
    }
   ],
   "source": [
    "x={\"yellow\",\"red\",\"blue\",\"pink\",\"orange\"}\n",
    "p=\"-\".join(x)\n",
    "print(p)"
   ]
  },
  {
   "cell_type": "code",
   "execution_count": 21,
   "metadata": {},
   "outputs": [
    {
     "name": "stdout",
     "output_type": "stream",
     "text": [
      "9\n",
      "10\n",
      "6\n",
      "10\n",
      "7\n",
      "1\n",
      "4\n"
     ]
    }
   ],
   "source": [
    "import random\n",
    "n=0\n",
    "while n !=4:\n",
    "    n=random.randint(1,10)\n",
    "    print(n)"
   ]
  },
  {
   "cell_type": "code",
   "execution_count": null,
   "metadata": {},
   "outputs": [],
   "source": []
  }
 ],
 "metadata": {
  "kernelspec": {
   "display_name": "base",
   "language": "python",
   "name": "python3"
  },
  "language_info": {
   "codemirror_mode": {
    "name": "ipython",
    "version": 3
   },
   "file_extension": ".py",
   "mimetype": "text/x-python",
   "name": "python",
   "nbconvert_exporter": "python",
   "pygments_lexer": "ipython3",
   "version": "3.10.10"
  },
  "orig_nbformat": 4
 },
 "nbformat": 4,
 "nbformat_minor": 2
}
