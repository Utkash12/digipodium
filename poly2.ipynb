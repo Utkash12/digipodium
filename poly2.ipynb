{
 "cells": [
  {
   "cell_type": "code",
   "execution_count": 1,
   "metadata": {},
   "outputs": [],
   "source": [
    "from turtle import *\n",
    "speed(1)\n",
    "\n",
    "def polygon(sides, length, color, width):\n",
    "    pencolor(color)\n",
    "    pensize(width)\n",
    "    for i in range(sides):\n",
    "        forward(length)\n",
    "        right(360/sides)\n",
    "\n",
    "polygon(4, 100, \"red\", 5)\n",
    "goto(200,0)\n",
    "polygon(6,50,\"green\",2)\n",
    "goto(200,200)\n",
    "polygon(3,100,\"blue\",10)\n",
    "\n",
    "hideturtle()\n",
    "mainloop()"
   ]
  },
  {
   "cell_type": "code",
   "execution_count": null,
   "metadata": {},
   "outputs": [],
   "source": []
  }
 ],
 "metadata": {
  "kernelspec": {
   "display_name": "base",
   "language": "python",
   "name": "python3"
  },
  "language_info": {
   "codemirror_mode": {
    "name": "ipython",
    "version": 3
   },
   "file_extension": ".py",
   "mimetype": "text/x-python",
   "name": "python",
   "nbconvert_exporter": "python",
   "pygments_lexer": "ipython3",
   "version": "3.10.10"
  },
  "orig_nbformat": 4
 },
 "nbformat": 4,
 "nbformat_minor": 2
}
