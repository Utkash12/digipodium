{
 "cells": [
  {
   "cell_type": "code",
   "execution_count": 19,
   "metadata": {},
   "outputs": [
    {
     "name": "stdout",
     "output_type": "stream",
     "text": [
      "{'name': 'aman', 'age': '19', 'city': 'lko', 'state': 'UP', 'country': 'India'}\n"
     ]
    }
   ],
   "source": [
    "person={\n",
    "    'name' : 'aman',\n",
    "    'age' : '19',\n",
    "    'city' : 'lko',\n",
    "    'state' :'UP',\n",
    "    'country' : 'India',\n",
    "}\n",
    "print(person)"
   ]
  },
  {
   "cell_type": "code",
   "execution_count": 20,
   "metadata": {},
   "outputs": [
    {
     "name": "stdout",
     "output_type": "stream",
     "text": [
      "dict_values(['aman', '19', 'lko', 'UP', 'India'])\n"
     ]
    }
   ],
   "source": [
    "print(person.values())"
   ]
  },
  {
   "cell_type": "code",
   "execution_count": 21,
   "metadata": {},
   "outputs": [
    {
     "name": "stdout",
     "output_type": "stream",
     "text": [
      "dict_items([('name', 'aman'), ('age', '19'), ('city', 'lko'), ('state', 'UP'), ('country', 'India')])\n"
     ]
    }
   ],
   "source": [
    "print(person.items())"
   ]
  },
  {
   "cell_type": "code",
   "execution_count": 22,
   "metadata": {},
   "outputs": [
    {
     "name": "stdout",
     "output_type": "stream",
     "text": [
      "dict_keys(['name', 'age', 'city', 'state', 'country'])\n"
     ]
    }
   ],
   "source": [
    "print(person.keys())"
   ]
  },
  {
   "cell_type": "code",
   "execution_count": 23,
   "metadata": {},
   "outputs": [
    {
     "name": "stdout",
     "output_type": "stream",
     "text": [
      "UP\n"
     ]
    }
   ],
   "source": [
    "print(person['state'])"
   ]
  },
  {
   "cell_type": "code",
   "execution_count": 26,
   "metadata": {},
   "outputs": [
    {
     "name": "stdout",
     "output_type": "stream",
     "text": [
      "{'name': 'aman', 'age': '19', 'city': 'lko', 'state': 'UP', 'country': 'India'}\n"
     ]
    }
   ],
   "source": [
    "print(person)"
   ]
  },
  {
   "cell_type": "code",
   "execution_count": 31,
   "metadata": {},
   "outputs": [
    {
     "name": "stdout",
     "output_type": "stream",
     "text": [
      "aman\n"
     ]
    }
   ],
   "source": [
    "print(person['name'])"
   ]
  },
  {
   "cell_type": "code",
   "execution_count": 32,
   "metadata": {},
   "outputs": [
    {
     "name": "stdout",
     "output_type": "stream",
     "text": [
      "India\n"
     ]
    }
   ],
   "source": [
    "print(person.pop('country'))"
   ]
  },
  {
   "cell_type": "code",
   "execution_count": 33,
   "metadata": {},
   "outputs": [
    {
     "name": "stdout",
     "output_type": "stream",
     "text": [
      "{'name': 'aman', 'age': '19', 'city': 'lko', 'state': 'UP'}\n"
     ]
    }
   ],
   "source": [
    "print(person)"
   ]
  },
  {
   "cell_type": "code",
   "execution_count": 36,
   "metadata": {},
   "outputs": [],
   "source": [
    "man={\n",
    "    'name' : 'aman',\n",
    "    'age' : '19',\n",
    "    'address':{\n",
    "        'street' : '18',\n",
    "        'area': 'alambagh',\n",
    "        'city' : 'lko',\n",
    "        'state' :'UP',\n",
    "        'country' : 'India',\n",
    "    },\n",
    "    'designation' : 'student',\n",
    "    'hobbies' : ['coding','gaming','reading','music'],\n",
    "}"
   ]
  },
  {
   "cell_type": "code",
   "execution_count": 37,
   "metadata": {},
   "outputs": [
    {
     "name": "stdout",
     "output_type": "stream",
     "text": [
      "{'name': 'aman', 'age': '19', 'address': {'street': '18', 'area': 'alambagh', 'city': 'lko', 'state': 'UP', 'country': 'India'}, 'designation': 'student', 'hobbies': ['coding', 'gaming', 'reading', 'music']}\n"
     ]
    }
   ],
   "source": [
    "print(man)"
   ]
  },
  {
   "cell_type": "code",
   "execution_count": 40,
   "metadata": {},
   "outputs": [
    {
     "name": "stdout",
     "output_type": "stream",
     "text": [
      "lko\n"
     ]
    }
   ],
   "source": [
    "print(man['address']['city'])"
   ]
  },
  {
   "cell_type": "code",
   "execution_count": 41,
   "metadata": {},
   "outputs": [
    {
     "name": "stdout",
     "output_type": "stream",
     "text": [
      "dict_values(['aman', '19', {'street': '18', 'area': 'alambagh', 'city': 'lko', 'state': 'UP', 'country': 'India'}, 'student', ['coding', 'gaming', 'reading', 'music']])\n"
     ]
    }
   ],
   "source": [
    "print(man.values())"
   ]
  },
  {
   "cell_type": "code",
   "execution_count": 42,
   "metadata": {},
   "outputs": [
    {
     "name": "stdout",
     "output_type": "stream",
     "text": [
      "dict_items([('name', 'aman'), ('age', '19'), ('address', {'street': '18', 'area': 'alambagh', 'city': 'lko', 'state': 'UP', 'country': 'India'}), ('designation', 'student'), ('hobbies', ['coding', 'gaming', 'reading', 'music'])])\n"
     ]
    }
   ],
   "source": [
    "print(man.items())"
   ]
  },
  {
   "cell_type": "code",
   "execution_count": null,
   "metadata": {},
   "outputs": [],
   "source": []
  }
 ],
 "metadata": {
  "kernelspec": {
   "display_name": "base",
   "language": "python",
   "name": "python3"
  },
  "language_info": {
   "codemirror_mode": {
    "name": "ipython",
    "version": 3
   },
   "file_extension": ".py",
   "mimetype": "text/x-python",
   "name": "python",
   "nbconvert_exporter": "python",
   "pygments_lexer": "ipython3",
   "version": "3.10.10"
  },
  "orig_nbformat": 4
 },
 "nbformat": 4,
 "nbformat_minor": 2
}
