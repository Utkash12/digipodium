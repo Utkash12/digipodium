{
 "cells": [
  {
   "cell_type": "code",
   "execution_count": 1,
   "metadata": {},
   "outputs": [
    {
     "data": {
      "text/plain": [
       "True"
      ]
     },
     "execution_count": 1,
     "metadata": {},
     "output_type": "execute_result"
    }
   ],
   "source": [
    "bool(\"hello\")"
   ]
  },
  {
   "cell_type": "code",
   "execution_count": 2,
   "metadata": {},
   "outputs": [
    {
     "data": {
      "text/plain": [
       "False"
      ]
     },
     "execution_count": 2,
     "metadata": {},
     "output_type": "execute_result"
    }
   ],
   "source": [
    "bool(\"\")"
   ]
  },
  {
   "cell_type": "code",
   "execution_count": 3,
   "metadata": {},
   "outputs": [
    {
     "data": {
      "text/plain": [
       "True"
      ]
     },
     "execution_count": 3,
     "metadata": {},
     "output_type": "execute_result"
    }
   ],
   "source": [
    "bool(\" \")"
   ]
  },
  {
   "cell_type": "code",
   "execution_count": 4,
   "metadata": {},
   "outputs": [
    {
     "data": {
      "text/plain": [
       "False"
      ]
     },
     "execution_count": 4,
     "metadata": {},
     "output_type": "execute_result"
    }
   ],
   "source": [
    "bool(0)"
   ]
  },
  {
   "cell_type": "code",
   "execution_count": 5,
   "metadata": {},
   "outputs": [
    {
     "ename": "IndentationError",
     "evalue": "unexpected indent (2302466728.py, line 2)",
     "output_type": "error",
     "traceback": [
      "\u001b[1;36m  Cell \u001b[1;32mIn[5], line 2\u001b[1;36m\u001b[0m\n\u001b[1;33m    -True\u001b[0m\n\u001b[1;37m    ^\u001b[0m\n\u001b[1;31mIndentationError\u001b[0m\u001b[1;31m:\u001b[0m unexpected indent\n"
     ]
    }
   ],
   "source": [
    "## true values\n",
    "    -True\n",
    "    -non-zero numbers\n",
    "    -non-empty strings\n",
    "    -non-empty lists\n",
    "    -non-empty dictionaries\n",
    "    -non-empty tuples\n",
    "    -non-empty sets\n",
    "    any non empty data structure\n",
    "## false values\n",
    "    -False\n",
    "    -0  \n",
    "    -0.0\n",
    "    -empty strings\n",
    "    -empty lists\n",
    "    -empty dictionaries\n",
    "    -empty tuples\n",
    "    -empty sets\n",
    "    -None"
   ]
  },
  {
   "cell_type": "code",
   "execution_count": 6,
   "metadata": {},
   "outputs": [
    {
     "name": "stdout",
     "output_type": "stream",
     "text": [
      "x is greater than 25\n"
     ]
    }
   ],
   "source": [
    "x=30\n",
    "if x>25:\n",
    "    print(\"x is greater than 25\")\n",
    "else:\n",
    "    print(\"x is less than 25\") "
   ]
  },
  {
   "cell_type": "code",
   "execution_count": 7,
   "metadata": {},
   "outputs": [
    {
     "name": "stdout",
     "output_type": "stream",
     "text": [
      "x is greater than 25\n",
      "x is greater than 50\n"
     ]
    }
   ],
   "source": [
    "x=int(input(\"Enter  a number: \"))\n",
    "if x>25:\n",
    "    print(\"x is greater than 25\")\n",
    "if x>50:\n",
    "    print(\"x is greater than 50\")\n",
    "if x>75:\n",
    "    print(\"x is greater than 75\")\n",
    "if x>100:\n",
    "    print(\"x is greater than 100\")\n",
    "if x<=10:\n",
    "    print(\"x is less than or equal to 10\")\n",
    "if x<=25:\n",
    "    print(\"x is less than or equal to 25\")\n",
    "print(\"Done\")"
   ]
  },
  {
   "cell_type": "code",
   "execution_count": 8,
   "metadata": {},
   "outputs": [
    {
     "name": "stdout",
     "output_type": "stream",
     "text": [
      "Even\n"
     ]
    }
   ],
   "source": [
    "n=int(input(\"Enter a number: \"))\n",
    "if(n%2==0):\n",
    "    print(\"The num is Even\")\n",
    "else:\n",
    "    print(\"The number is Odd\")"
   ]
  },
  {
   "cell_type": "code",
   "execution_count": 10,
   "metadata": {},
   "outputs": [
    {
     "name": "stdout",
     "output_type": "stream",
     "text": [
      "c is biggest\n"
     ]
    }
   ],
   "source": [
    "a,b,c=10,20,30\n",
    "if a>b and a>c:\n",
    "    print(\"a is biggest\")\n",
    "elif b>a and b>c:\n",
    "    print(\"b is biggest\")\n",
    "else:\n",
    "    print(\"c is biggest\")\n"
   ]
  },
  {
   "cell_type": "code",
   "execution_count": 11,
   "metadata": {},
   "outputs": [
    {
     "name": "stdout",
     "output_type": "stream",
     "text": [
      "❌ Thoda bada likho\n"
     ]
    }
   ],
   "source": [
    "username=input(\"Apna Naam Batao: \")\n",
    "password=input(\"Apna Password Batao: \")\n",
    "if len(username)<3:\n",
    "    print(\"❌ Thoda bada likho\")\n",
    "elif len(password)<8:\n",
    "    print(\"❌ Thoda chota likho\")\n",
    "elif not username.isalpha():\n",
    "    print(\"❌ Sirf letters daalo\")\n",
    "else:\n",
    "    print(\"✅ Ho gaya\")\n"
   ]
  },
  {
   "cell_type": "code",
   "execution_count": 12,
   "metadata": {},
   "outputs": [
    {
     "name": "stdout",
     "output_type": "stream",
     "text": [
      "✅ Ho gaya\n",
      "❌ Thoda bada likho\n"
     ]
    }
   ],
   "source": [
    "username=input(\"Apna Naam Batao: \")\n",
    "password=input(\"Apna Password Batao: \")\n",
    "if len(username)<3:\n",
    "    print(\"❌ Thoda bada likho\")\n",
    "else:\n",
    "    print(\"✅ Ho gaya\")\n",
    "if len(password)<8:\n",
    "    print(\"❌ Thoda bada likho\")\n",
    "else:\n",
    "    print(\"✅ Ho gaya\")"
   ]
  },
  {
   "cell_type": "code",
   "execution_count": 13,
   "metadata": {},
   "outputs": [
    {
     "ename": "SyntaxError",
     "evalue": "invalid syntax (2123060102.py, line 2)",
     "output_type": "error",
     "traceback": [
      "\u001b[1;36m  Cell \u001b[1;32mIn[13], line 2\u001b[1;36m\u001b[0m\n\u001b[1;33m    its used to check the value of a variable against multiple values\u001b[0m\n\u001b[1;37m        ^\u001b[0m\n\u001b[1;31mSyntaxError\u001b[0m\u001b[1;31m:\u001b[0m invalid syntax\n"
     ]
    }
   ],
   "source": [
    "#### match case (python 3.10)\n",
    "    its used to check the value of a variable against multiple values"
   ]
  },
  {
   "cell_type": "code",
   "execution_count": 16,
   "metadata": {},
   "outputs": [
    {
     "name": "stdout",
     "output_type": "stream",
     "text": [
      "Today is Holiday\n"
     ]
    }
   ],
   "source": [
    "day=input(\"Enter the day: \")\n",
    "match day:\n",
    "    case \"monday\":\n",
    "        print(\"Today is Monday\")\n",
    "    case \"tuesday\":\n",
    "        print(\"Today is Tuesday\")\n",
    "    case \"wednesday\":\n",
    "        print(\"Today is Wednesday\")\n",
    "    case \"thursday\" | \"holiday\":\n",
    "        print(\"Today is Holiday\")\n",
    "    case \"friday\":\n",
    "        print(\"Today is Friday\")\n",
    "    case \"saturday\":\n",
    "        print(\"Today is Saturday\")\n",
    "    case \"sunday\":\n",
    "        print(\"Today is Sunday\")\n",
    "    case _:\n",
    "        print(\"Invalid Day\")"
   ]
  },
  {
   "cell_type": "code",
   "execution_count": null,
   "metadata": {},
   "outputs": [],
   "source": []
  }
 ],
 "metadata": {
  "kernelspec": {
   "display_name": "base",
   "language": "python",
   "name": "python3"
  },
  "language_info": {
   "codemirror_mode": {
    "name": "ipython",
    "version": 3
   },
   "file_extension": ".py",
   "mimetype": "text/x-python",
   "name": "python",
   "nbconvert_exporter": "python",
   "pygments_lexer": "ipython3",
   "version": "3.10.10"
  },
  "orig_nbformat": 4
 },
 "nbformat": 4,
 "nbformat_minor": 2
}
