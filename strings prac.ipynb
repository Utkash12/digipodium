{
 "cells": [
  {
   "cell_type": "code",
   "execution_count": 2,
   "metadata": {},
   "outputs": [
    {
     "name": "stdout",
     "output_type": "stream",
     "text": [
      "this is my first string\n",
      "23\n"
     ]
    }
   ],
   "source": [
    "string=\"this is my first string\"\n",
    "print(string)\n",
    "length=len(string)\n",
    "print(length)"
   ]
  },
  {
   "cell_type": "code",
   "execution_count": 9,
   "metadata": {},
   "outputs": [
    {
     "name": "stdout",
     "output_type": "stream",
     "text": [
      "nilreB mrof tneduts a si siht ih\n"
     ]
    }
   ],
   "source": [
    "# reverse string\n",
    "print(string[::-1])"
   ]
  },
  {
   "cell_type": "code",
   "execution_count": 11,
   "metadata": {},
   "outputs": [
    {
     "name": "stdout",
     "output_type": "stream",
     "text": [
      "gnirts tsrif ym si siht\n"
     ]
    }
   ],
   "source": [
    "string5=\"this is my first string\"\n",
    "print(string5[::-1])"
   ]
  },
  {
   "cell_type": "code",
   "execution_count": 13,
   "metadata": {},
   "outputs": [
    {
     "name": "stdout",
     "output_type": "stream",
     "text": [
      "The reverse string is:   ereg mai ih\n"
     ]
    }
   ],
   "source": [
    "string = input('Enter the string: ')\n",
    "reverse = ''\n",
    "for i in range(len(string), 0, -1):\n",
    "   reverse = reverse+ string[i-1]\n",
    "print('The reverse string is:  ', reverse)"
   ]
  },
  {
   "cell_type": "code",
   "execution_count": 24,
   "metadata": {},
   "outputs": [
    {
     "name": "stdout",
     "output_type": "stream",
     "text": [
      "The string before reversal:  hi this is me\n",
      "The string after reversal:  em si siht ih\n"
     ]
    }
   ],
   "source": [
    "stringg=input(\"Enter the string to be reversed: \")\n",
    "print(\"The string before reversal: \",stringg)\n",
    "reverse=\"\"\n",
    "for i in range(len(stringg),0,-1):\n",
    "    reverse=reverse+stringg[i-1]\n",
    "print(\"The string after reversal: \",reverse)"
   ]
  },
  {
   "cell_type": "code",
   "execution_count": 19,
   "metadata": {},
   "outputs": [
    {
     "name": "stdout",
     "output_type": "stream",
     "text": [
      "is is a\n"
     ]
    }
   ],
   "source": [
    "trial=\"this is a string\"\n",
    "print(trial[2:9])"
   ]
  },
  {
   "cell_type": "code",
   "execution_count": 22,
   "metadata": {},
   "outputs": [
    {
     "name": "stdout",
     "output_type": "stream",
     "text": [
      "ti sas\n"
     ]
    }
   ],
   "source": [
    "print(trial[:12:2])"
   ]
  },
  {
   "cell_type": "code",
   "execution_count": 28,
   "metadata": {},
   "outputs": [
    {
     "name": "stdout",
     "output_type": "stream",
     "text": [
      "Here is the sring for execution\n",
      "31\n",
      "n o i t u c e x e   r o f   g n i r s   e h t   s i   e r e H "
     ]
    }
   ],
   "source": [
    "strring=\"Here is the sring for execution\"\n",
    "print(strring)\n",
    "length=len(strring)\n",
    "print(length)\n",
    "while length>0:\n",
    "    print(strring[length-1], end=\" \")\n",
    "    length=length-1\n"
   ]
  },
  {
   "cell_type": "code",
   "execution_count": 31,
   "metadata": {},
   "outputs": [
    {
     "name": "stdout",
     "output_type": "stream",
     "text": [
      "This Is A StrInG For UppErCaSE\n",
      "T I A S I G F U E C S E "
     ]
    }
   ],
   "source": [
    "check=\"This Is A StrInG For UppErCaSE\"\n",
    "print(check)\n",
    "length11=len(check)\n",
    "for i in range(0,length11):\n",
    "    if check[i].isupper():\n",
    "        print(check[i], end=\" \")"
   ]
  },
  {
   "cell_type": "code",
   "execution_count": 32,
   "metadata": {},
   "outputs": [
    {
     "name": "stdout",
     "output_type": "stream",
     "text": [
      "H,I,T,I,A,T,P,E,O,S,I,N,"
     ]
    }
   ],
   "source": [
    "string=\"HI This Is A TyPE Of StrINg\"\n",
    "length=len(string)\n",
    "for i in range(0,length):\n",
    "    if(string[i].isupper()):\n",
    "        print(string[i] ,end=\",\")"
   ]
  },
  {
   "cell_type": "code",
   "execution_count": 33,
   "metadata": {},
   "outputs": [
    {
     "name": "stdout",
     "output_type": "stream",
     "text": [
      "I AM IN SMALL CASE\n"
     ]
    }
   ],
   "source": [
    "string=\"i am in small case\"\n",
    "print(string.upper())"
   ]
  },
  {
   "cell_type": "code",
   "execution_count": 34,
   "metadata": {},
   "outputs": [
    {
     "name": "stdout",
     "output_type": "stream",
     "text": [
      "I am in small case\n"
     ]
    }
   ],
   "source": [
    "print(string.capitalize()) "
   ]
  },
  {
   "cell_type": "code",
   "execution_count": 35,
   "metadata": {},
   "outputs": [
    {
     "name": "stdout",
     "output_type": "stream",
     "text": [
      "I Am In Small Case\n"
     ]
    }
   ],
   "source": [
    "print(string.title())"
   ]
  },
  {
   "cell_type": "code",
   "execution_count": null,
   "metadata": {},
   "outputs": [],
   "source": []
  }
 ],
 "metadata": {
  "kernelspec": {
   "display_name": "base",
   "language": "python",
   "name": "python3"
  },
  "language_info": {
   "codemirror_mode": {
    "name": "ipython",
    "version": 3
   },
   "file_extension": ".py",
   "mimetype": "text/x-python",
   "name": "python",
   "nbconvert_exporter": "python",
   "pygments_lexer": "ipython3",
   "version": "3.10.10"
  },
  "orig_nbformat": 4
 },
 "nbformat": 4,
 "nbformat_minor": 2
}
