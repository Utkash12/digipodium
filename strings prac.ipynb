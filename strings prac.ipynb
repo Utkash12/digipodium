{
 "cells": [
  {
   "cell_type": "code",
   "execution_count": 2,
   "metadata": {},
   "outputs": [
    {
     "name": "stdout",
     "output_type": "stream",
     "text": [
      "this is my first string\n",
      "23\n"
     ]
    }
   ],
   "source": [
    "string=\"this is my first string\"\n",
    "print(string)\n",
    "length=len(string)\n",
    "print(length)"
   ]
  },
  {
   "cell_type": "code",
   "execution_count": 9,
   "metadata": {},
   "outputs": [
    {
     "name": "stdout",
     "output_type": "stream",
     "text": [
      "nilreB mrof tneduts a si siht ih\n"
     ]
    }
   ],
   "source": [
    "# reverse string\n",
    "print(string[::-1])"
   ]
  },
  {
   "cell_type": "code",
   "execution_count": 11,
   "metadata": {},
   "outputs": [
    {
     "name": "stdout",
     "output_type": "stream",
     "text": [
      "gnirts tsrif ym si siht\n"
     ]
    }
   ],
   "source": [
    "string5=\"this is my first string\"\n",
    "print(string5[::-1])"
   ]
  },
  {
   "cell_type": "code",
   "execution_count": 13,
   "metadata": {},
   "outputs": [
    {
     "name": "stdout",
     "output_type": "stream",
     "text": [
      "The reverse string is:   ereg mai ih\n"
     ]
    }
   ],
   "source": [
    "string = input('Enter the string: ')\n",
    "reverse = ''\n",
    "for i in range(len(string), 0, -1):\n",
    "   reverse = reverse+ string[i-1]\n",
    "print('The reverse string is:  ', reverse)"
   ]
  },
  {
   "cell_type": "code",
   "execution_count": 24,
   "metadata": {},
   "outputs": [
    {
     "name": "stdout",
     "output_type": "stream",
     "text": [
      "The string before reversal:  hi this is me\n",
      "The string after reversal:  em si siht ih\n"
     ]
    }
   ],
   "source": [
    "stringg=input(\"Enter the string to be reversed: \")\n",
    "print(\"The string before reversal: \",stringg)\n",
    "reverse=\"\"\n",
    "for i in range(len(stringg),0,-1):\n",
    "    reverse=reverse+stringg[i-1]\n",
    "print(\"The string after reversal: \",reverse)"
   ]
  },
  {
   "cell_type": "code",
   "execution_count": 19,
   "metadata": {},
   "outputs": [
    {
     "name": "stdout",
     "output_type": "stream",
     "text": [
      "is is a\n"
     ]
    }
   ],
   "source": [
    "trial=\"this is a string\"\n",
    "print(trial[2:9])"
   ]
  },
  {
   "cell_type": "code",
   "execution_count": 22,
   "metadata": {},
   "outputs": [
    {
     "name": "stdout",
     "output_type": "stream",
     "text": [
      "ti sas\n"
     ]
    }
   ],
   "source": [
    "print(trial[:12:2])"
   ]
  },
  {
   "cell_type": "code",
   "execution_count": null,
   "metadata": {},
   "outputs": [],
   "source": []
  }
 ],
 "metadata": {
  "kernelspec": {
   "display_name": "base",
   "language": "python",
   "name": "python3"
  },
  "language_info": {
   "codemirror_mode": {
    "name": "ipython",
    "version": 3
   },
   "file_extension": ".py",
   "mimetype": "text/x-python",
   "name": "python",
   "nbconvert_exporter": "python",
   "pygments_lexer": "ipython3",
   "version": "3.10.10"
  },
  "orig_nbformat": 4
 },
 "nbformat": 4,
 "nbformat_minor": 2
}
