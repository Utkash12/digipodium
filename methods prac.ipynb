{
 "cells": [
  {
   "cell_type": "code",
   "execution_count": 2,
   "metadata": {},
   "outputs": [
    {
     "name": "stdout",
     "output_type": "stream",
     "text": [
      "sum is 30\n"
     ]
    }
   ],
   "source": [
    "def sum(a,b):\n",
    "    return a+b\n",
    "print(\"sum is\",sum(10,20))"
   ]
  },
  {
   "cell_type": "code",
   "execution_count": 3,
   "metadata": {},
   "outputs": [
    {
     "name": "stdout",
     "output_type": "stream",
     "text": [
      "1650.0\n"
     ]
    }
   ],
   "source": [
    "def si(p,r,t):\n",
    "    return (p*r*t)/100\n",
    "p=int(input(\"Enter the principle\"))\n",
    "r=float(input(\"enter the rate\"))\n",
    "t=int(input(\"Enter the time \"))\n",
    "print(si(p,r,t))"
   ]
  },
  {
   "cell_type": "code",
   "execution_count": 8,
   "metadata": {},
   "outputs": [
    {
     "name": "stdout",
     "output_type": "stream",
     "text": [
      "The number 0 is even.\n"
     ]
    }
   ],
   "source": [
    "def oddeven(num):\n",
    "    if num%2==0:\n",
    "        print(f\"The number {num} is even.\")\n",
    "    else:\n",
    "        print(f\"The number {num} is odd.\")\n",
    "num=int(input(\"Enter the number to be checked: \"))\n",
    "oddeven(num)"
   ]
  },
  {
   "cell_type": "code",
   "execution_count": 17,
   "metadata": {},
   "outputs": [
    {
     "name": "stdout",
     "output_type": "stream",
     "text": [
      "the number 5 is prime\n"
     ]
    }
   ],
   "source": [
    "num=int(input(\"Enter the number to be checked: \"))\n",
    "flag=False\n",
    "for i in range (2,num):\n",
    "    if (num%i)==0:\n",
    "        flag=True\n",
    "        break;\n",
    "if flag==True:\n",
    "    print(f\"the number {num} is non-prime\")\n",
    "else:\n",
    "    print(f\"the number {num} is prime\")"
   ]
  },
  {
   "cell_type": "code",
   "execution_count": 19,
   "metadata": {},
   "outputs": [
    {
     "name": "stdout",
     "output_type": "stream",
     "text": [
      "the number is non-prime.\n"
     ]
    }
   ],
   "source": [
    "def is_prime(a):\n",
    "    flag=False\n",
    "    for i in range(2,a):\n",
    "        if (a%i)==0:\n",
    "            flag=True\n",
    "            break;\n",
    "    if(flag==True):\n",
    "        print(\"the number is non-prime.\")\n",
    "    else:\n",
    "        print(\"the number is prime.\")\n",
    "a=int(input(\"Enter the number to be checked.\"))\n",
    "is_prime(a)"
   ]
  },
  {
   "cell_type": "code",
   "execution_count": 23,
   "metadata": {},
   "outputs": [
    {
     "name": "stdout",
     "output_type": "stream",
     "text": [
      "1 2 3 5 7 11 13 17 19 23 29 31 37 "
     ]
    }
   ],
   "source": [
    "limit=int(input(\"Enter the last limit till to be checked: \"))\n",
    "for i in range(1,limit):\n",
    "    flag=False\n",
    "    for j in range(2,i):\n",
    "        if (i%j)==0:\n",
    "            flag=True\n",
    "            break;\n",
    "    if(flag==False):\n",
    "        print(i,end=\" \")"
   ]
  },
  {
   "cell_type": "code",
   "execution_count": 41,
   "metadata": {},
   "outputs": [
    {
     "name": "stdout",
     "output_type": "stream",
     "text": [
      "2\n",
      "4\n",
      "6\n",
      "8\n",
      "10\n",
      "12\n",
      "14\n",
      "16\n",
      "18\n",
      "20\n",
      "22\n",
      "24\n",
      "26\n",
      "28\n",
      "30\n",
      "32\n",
      "34\n",
      "36\n",
      "38\n",
      "40\n",
      "42\n",
      "44\n",
      "46\n",
      "48\n"
     ]
    }
   ],
   "source": [
    "def is_prime(a):\n",
    "    if(a%2)==0:\n",
    "        print(a)\n",
    "lim=int(input(\"Enter the limit: \"))\n",
    "for i in range (1,lim):\n",
    "    is_prime(i)"
   ]
  },
  {
   "cell_type": "code",
   "execution_count": null,
   "metadata": {},
   "outputs": [],
   "source": []
  }
 ],
 "metadata": {
  "kernelspec": {
   "display_name": "base",
   "language": "python",
   "name": "python3"
  },
  "language_info": {
   "codemirror_mode": {
    "name": "ipython",
    "version": 3
   },
   "file_extension": ".py",
   "mimetype": "text/x-python",
   "name": "python",
   "nbconvert_exporter": "python",
   "pygments_lexer": "ipython3",
   "version": "3.10.10"
  },
  "orig_nbformat": 4
 },
 "nbformat": 4,
 "nbformat_minor": 2
}
