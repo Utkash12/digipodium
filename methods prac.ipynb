{
 "cells": [
  {
   "cell_type": "code",
   "execution_count": 2,
   "metadata": {},
   "outputs": [
    {
     "name": "stdout",
     "output_type": "stream",
     "text": [
      "sum is 30\n"
     ]
    }
   ],
   "source": [
    "def sum(a,b):\n",
    "    return a+b\n",
    "print(\"sum is\",sum(10,20))"
   ]
  },
  {
   "cell_type": "code",
   "execution_count": 3,
   "metadata": {},
   "outputs": [
    {
     "name": "stdout",
     "output_type": "stream",
     "text": [
      "1650.0\n"
     ]
    }
   ],
   "source": [
    "def si(p,r,t):\n",
    "    return (p*r*t)/100\n",
    "p=int(input(\"Enter the principle\"))\n",
    "r=float(input(\"enter the rate\"))\n",
    "t=int(input(\"Enter the time \"))\n",
    "print(si(p,r,t))"
   ]
  },
  {
   "cell_type": "code",
   "execution_count": 8,
   "metadata": {},
   "outputs": [
    {
     "name": "stdout",
     "output_type": "stream",
     "text": [
      "The number 0 is even.\n"
     ]
    }
   ],
   "source": [
    "def oddeven(num):\n",
    "    if num%2==0:\n",
    "        print(f\"The number {num} is even.\")\n",
    "    else:\n",
    "        print(f\"The number {num} is odd.\")\n",
    "num=int(input(\"Enter the number to be checked: \"))\n",
    "oddeven(num)"
   ]
  },
  {
   "cell_type": "code",
   "execution_count": 17,
   "metadata": {},
   "outputs": [
    {
     "name": "stdout",
     "output_type": "stream",
     "text": [
      "the number 5 is prime\n"
     ]
    }
   ],
   "source": [
    "num=int(input(\"Enter the number to be checked: \"))\n",
    "flag=False\n",
    "for i in range (2,num):\n",
    "    if (num%i)==0:\n",
    "        flag=True\n",
    "        break;\n",
    "if flag==True:\n",
    "    print(f\"the number {num} is non-prime\")\n",
    "else:\n",
    "    print(f\"the number {num} is prime\")"
   ]
  },
  {
   "cell_type": "code",
   "execution_count": 19,
   "metadata": {},
   "outputs": [
    {
     "name": "stdout",
     "output_type": "stream",
     "text": [
      "the number is non-prime.\n"
     ]
    }
   ],
   "source": [
    "def is_prime(a):\n",
    "    flag=False\n",
    "    for i in range(2,a):\n",
    "        if (a%i)==0:\n",
    "            flag=True\n",
    "            break;\n",
    "    if(flag==True):\n",
    "        print(\"the number is non-prime.\")\n",
    "    else:\n",
    "        print(\"the number is prime.\")\n",
    "a=int(input(\"Enter the number to be checked.\"))\n",
    "is_prime(a)"
   ]
  },
  {
   "cell_type": "code",
   "execution_count": 42,
   "metadata": {},
   "outputs": [
    {
     "name": "stdout",
     "output_type": "stream",
     "text": [
      "1 2 3 5 7 11 13 17 19 23 29 31 37 41 43 47 53 59 61 67 71 73 79 83 89 97 "
     ]
    }
   ],
   "source": [
    "limit=int(input(\"Enter the last limit till to be checked: \"))\n",
    "def is_prime(a):\n",
    "    flag=False\n",
    "    for j in range(2,i):\n",
    "        if (i%j)==0:\n",
    "            flag=True\n",
    "            break;\n",
    "    if(flag==False):\n",
    "        print(i,end=\" \")\n",
    "for i in range(1,limit):\n",
    "    is_prime(i)"
   ]
  },
  {
   "cell_type": "code",
   "execution_count": 41,
   "metadata": {},
   "outputs": [
    {
     "name": "stdout",
     "output_type": "stream",
     "text": [
      "2\n",
      "4\n",
      "6\n",
      "8\n",
      "10\n",
      "12\n",
      "14\n",
      "16\n",
      "18\n",
      "20\n",
      "22\n",
      "24\n",
      "26\n",
      "28\n",
      "30\n",
      "32\n",
      "34\n",
      "36\n",
      "38\n",
      "40\n",
      "42\n",
      "44\n",
      "46\n",
      "48\n"
     ]
    }
   ],
   "source": [
    "def is_prime(a):\n",
    "    if(a%2)==0:\n",
    "        print(a)\n",
    "lim=int(input(\"Enter the limit: \"))\n",
    "for i in range (1,lim):\n",
    "    is_prime(i)"
   ]
  },
  {
   "cell_type": "code",
   "execution_count": 43,
   "metadata": {},
   "outputs": [
    {
     "name": "stdout",
     "output_type": "stream",
     "text": [
      "sai vishnu kumar\n"
     ]
    }
   ],
   "source": [
    "def name(first,last,middle):\n",
    "    return first+\" \"+middle+\" \"+last\n",
    "print(name(middle=\"vishnu\",first=\"sai\",last=\"kumar\"))"
   ]
  },
  {
   "cell_type": "code",
   "execution_count": null,
   "metadata": {},
   "outputs": [],
   "source": []
  },
  {
   "cell_type": "markdown",
   "metadata": {},
   "source": [
    "- Positional Arguments"
   ]
  },
  {
   "cell_type": "markdown",
   "metadata": {},
   "source": []
  },
  {
   "cell_type": "code",
   "execution_count": 44,
   "metadata": {},
   "outputs": [
    {
     "name": "stdout",
     "output_type": "stream",
     "text": [
      "Name is sai\n",
      "Age is 20\n",
      "Name is 20\n",
      "Age is sai\n"
     ]
    }
   ],
   "source": [
    "def posn(name,age):\n",
    "    print(\"Name is\",name)\n",
    "    print(\"Age is\",age)\n",
    "posn(\"sai\",20)\n",
    "posn(20,\"sai\")"
   ]
  },
  {
   "cell_type": "markdown",
   "metadata": {},
   "source": [
    "- Arbitary arguments\n",
    "    - args\n",
    "    - kwar"
   ]
  },
  {
   "cell_type": "markdown",
   "metadata": {},
   "source": []
  },
  {
   "cell_type": "code",
   "execution_count": 49,
   "metadata": {},
   "outputs": [
    {
     "name": "stdout",
     "output_type": "stream",
     "text": [
      "sai\n",
      "kumar\n",
      "vishnu\n",
      "None\n"
     ]
    }
   ],
   "source": [
    "def sentence(*argv):\n",
    "    for i in argv:\n",
    "        print(i)\n",
    "print(sentence(\"sai\",\"kumar\",\"vishnu\"))"
   ]
  },
  {
   "cell_type": "code",
   "execution_count": 50,
   "metadata": {},
   "outputs": [
    {
     "name": "stdout",
     "output_type": "stream",
     "text": [
      "125\n"
     ]
    }
   ],
   "source": [
    "def cube(num):\n",
    "    return num*num*num\n",
    "num=int(input(\"Enter the number to be cubed: \"))\n",
    "print(cube(num))"
   ]
  },
  {
   "cell_type": "code",
   "execution_count": 56,
   "metadata": {},
   "outputs": [
    {
     "name": "stdout",
     "output_type": "stream",
     "text": [
      "53.85\n"
     ]
    }
   ],
   "source": [
    "def hypto(a,b):\n",
    "    return ((a*a)+(b*b))**(1/2) \n",
    "a=int(input(\"Enter the first side: \"))\n",
    "b=int(input(\"Enter the second side: \"))\n",
    "print(f\"{hypto(a,b):.2f}\")"
   ]
  },
  {
   "cell_type": "code",
   "execution_count": 61,
   "metadata": {},
   "outputs": [
    {
     "name": "stdout",
     "output_type": "stream",
     "text": [
      "30\n"
     ]
    }
   ],
   "source": [
    "def sum(a,b):\n",
    "    return a+b\n",
    "n=int(input(\"enter the first number: \"))\n",
    "m=int(input(\"enter the second number: \"))\n",
    "print(sum(n,m))"
   ]
  },
  {
   "cell_type": "code",
   "execution_count": 66,
   "metadata": {},
   "outputs": [
    {
     "name": "stdout",
     "output_type": "stream",
     "text": [
      "15\n"
     ]
    }
   ],
   "source": [
    "def sum(a):\n",
    "    sum=0\n",
    "    for i in a:\n",
    "        sum+=i\n",
    "    return sum\n",
    "a=[1,2,3,4,5]\n",
    "print(sum(a))"
   ]
  },
  {
   "cell_type": "code",
   "execution_count": 69,
   "metadata": {},
   "outputs": [
    {
     "name": "stdout",
     "output_type": "stream",
     "text": [
      "10\n"
     ]
    }
   ],
   "source": [
    "\n",
    "def sum(lim,i):\n",
    "    sum=0\n",
    "    for i in range(1,lim):\n",
    "        sum=sum+i\n",
    "    print(sum)\n",
    "lim=int(input(\"Enter the limit\"))\n",
    "for i in range(1,lim):\n",
    "    num=int(input(\"Enter the number: \"))\n",
    "sum(lim,num)"
   ]
  },
  {
   "cell_type": "code",
   "execution_count": 71,
   "metadata": {},
   "outputs": [
    {
     "name": "stdout",
     "output_type": "stream",
     "text": [
      "25\n"
     ]
    }
   ],
   "source": [
    "sum=0\n",
    "lim=int(input(\"Enter the limit: \"))\n",
    "for i in range (0,lim):\n",
    "    num=int(input(\"enter the number\"))\n",
    "    sum=sum+num\n",
    "print(sum)"
   ]
  },
  {
   "cell_type": "code",
   "execution_count": 76,
   "metadata": {},
   "outputs": [
    {
     "name": "stdout",
     "output_type": "stream",
     "text": [
      "15\n"
     ]
    }
   ],
   "source": [
    "def sum(num):\n",
    "    sum=0\n",
    "    lim=int(input(\"Enter the limit: \"))\n",
    "    for i in range(1,lim):\n",
    "        num=int(input(\"Enter the number: \"))\n",
    "        sum=sum+num\n",
    "    print(sum)\n",
    "sum(num)"
   ]
  },
  {
   "cell_type": "code",
   "execution_count": null,
   "metadata": {},
   "outputs": [],
   "source": []
  }
 ],
 "metadata": {
  "kernelspec": {
   "display_name": "base",
   "language": "python",
   "name": "python3"
  },
  "language_info": {
   "codemirror_mode": {
    "name": "ipython",
    "version": 3
   },
   "file_extension": ".py",
   "mimetype": "text/x-python",
   "name": "python",
   "nbconvert_exporter": "python",
   "pygments_lexer": "ipython3",
   "version": "3.10.10"
  },
  "orig_nbformat": 4
 },
 "nbformat": 4,
 "nbformat_minor": 2
}
