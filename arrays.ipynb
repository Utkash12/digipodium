{
 "cells": [
  {
   "cell_type": "code",
   "execution_count": 2,
   "metadata": {},
   "outputs": [
    {
     "name": "stdout",
     "output_type": "stream",
     "text": [
      "1 2 3 4 5 "
     ]
    }
   ],
   "source": [
    "import array as arr\n",
    "val=arr.array('i',[1,2,3,4,5,6])\n",
    "for i in range(0,5):\n",
    "    print(val[i],end=\" \")"
   ]
  },
  {
   "cell_type": "code",
   "execution_count": 7,
   "metadata": {},
   "outputs": [
    {
     "name": "stdout",
     "output_type": "stream",
     "text": [
      "The element at at position 0 will be 1\n",
      "The element at at position 1 will be 2\n",
      "The element at at position 2 will be 3\n",
      "The element at at position 3 will be 4\n",
      "The element at at position 4 will be 5\n",
      "The element at at position 5 will be 6\n",
      "The element at at position 6 will be 7\n",
      "\n",
      "\n",
      "The length of array will be:  7\n"
     ]
    }
   ],
   "source": [
    "import array as arr\n",
    "val=arr.array('i',[1,2,3,4,5,6,7])\n",
    "length=len(val)\n",
    "for i in range(0,length):\n",
    "    print(f\"The element at at position {i} will be {val[i]}\", end=\"\\n\")\n",
    "print(\"\\n\")\n",
    "print(\"The length of array will be: \",len(val))"
   ]
  },
  {
   "cell_type": "code",
   "execution_count": 9,
   "metadata": {},
   "outputs": [
    {
     "name": "stdout",
     "output_type": "stream",
     "text": [
      "Array before insertion :  1 2 3 \n",
      "Array after insertion :  1 2 3 4 \n"
     ]
    }
   ],
   "source": [
    "import array as arr\n",
    "a = arr.array('i', [1, 2, 3])\n",
    "print(\"Array before insertion : \", end=\" \")\n",
    "for i in range(0, 3):\n",
    "\tprint(a[i], end=\" \")\n",
    "print()\n",
    "a.insert(1, 4)\n",
    "print(\"Array after insertion : \", end=\" \")\n",
    "for i in (a):\n",
    "\tprint(i, end=\" \")\n",
    "print()\n"
   ]
  },
  {
   "cell_type": "code",
   "execution_count": 11,
   "metadata": {},
   "outputs": [
    {
     "name": "stdout",
     "output_type": "stream",
     "text": [
      "1\n",
      "2\n",
      "3\n",
      "4\n",
      "5\n",
      "6\n"
     ]
    }
   ],
   "source": [
    "import array as arr\n",
    "val=arr.array('i',[1,2,3,4,5,6])\n",
    "for i in range(0,6):\n",
    "    print(val[i])"
   ]
  },
  {
   "cell_type": "code",
   "execution_count": 2,
   "metadata": {},
   "outputs": [
    {
     "name": "stdout",
     "output_type": "stream",
     "text": [
      "2.45, 4.56, 4.12, 2.34, \n",
      "\n",
      "2.45,4.56,4.78,4.12,2.34,"
     ]
    }
   ],
   "source": [
    "import array as arr\n",
    "val=arr.array('d',[2.45,4.56,4.12,2.34])\n",
    "length=len(val)\n",
    "for i in range(0,length):\n",
    "    print(val[i],end=\", \")\n",
    "print(\"\\n\")\n",
    "val.insert(2,4.78)\n",
    "length1=len(val)\n",
    "for i in range(0,length1):\n",
    "    print(val[i],end=\",\")"
   ]
  },
  {
   "cell_type": "code",
   "execution_count": 3,
   "metadata": {},
   "outputs": [
    {
     "name": "stdout",
     "output_type": "stream",
     "text": [
      "10,20,30,40,"
     ]
    }
   ],
   "source": [
    "import array as arr\n",
    "val=arr.array('i',[])\n",
    "length=int(input(\"Enter the length: \"))\n",
    "for i in range(length):\n",
    "    n=int(input(\"enter the number: \"))\n",
    "    val.insert(i,n)\n",
    "for i in range(length):\n",
    "    print(val[i],end=\",\")"
   ]
  },
  {
   "cell_type": "code",
   "execution_count": 4,
   "metadata": {},
   "outputs": [
    {
     "name": "stdout",
     "output_type": "stream",
     "text": [
      "10,20,30,40,"
     ]
    }
   ],
   "source": [
    "import array as arr\n",
    "val=arr.array('i',[])\n",
    "length=int(input(\"Enter the length: \"))\n",
    "for i in range(length):\n",
    "    n=int(input(\"enter the number: \"))\n",
    "    val.insert(i,n)\n",
    "for i in range(length):\n",
    "    print(val[i],end=\",\")"
   ]
  },
  {
   "cell_type": "code",
   "execution_count": 5,
   "metadata": {},
   "outputs": [
    {
     "name": "stdout",
     "output_type": "stream",
     "text": [
      "10\n",
      "20\n",
      "30\n",
      "40\n"
     ]
    }
   ],
   "source": [
    "import array as arr\n",
    "n=int(input(\"Enter the length of the array: \"))\n",
    "val=arr.array('i',[])\n",
    "for i in range(n):\n",
    "    digit=int(input(\"Enter the number: \"))\n",
    "    val.append(digit)\n",
    "for i in range(n):\n",
    "    print(val[i])"
   ]
  },
  {
   "cell_type": "code",
   "execution_count": 12,
   "metadata": {},
   "outputs": [
    {
     "name": "stdout",
     "output_type": "stream",
     "text": [
      "The value at 0 is  0 10\n",
      "The value at 1 is  1 20\n",
      "The value at 2 is  2 30\n",
      "The value at 3 is  3 40\n"
     ]
    }
   ],
   "source": [
    "import array as arr\n",
    "length=int(input(\"Enter the length of the array: \"))\n",
    "val=arr.array('i',[])\n",
    "for i in range(length):\n",
    "    num=int(input(f\"Enter the number at {i}:\"))\n",
    "    val.append(num)\n",
    "    print(f\"The value at {i} is \",val[i])"
   ]
  },
  {
   "cell_type": "code",
   "execution_count": 14,
   "metadata": {},
   "outputs": [
    {
     "name": "stdout",
     "output_type": "stream",
     "text": [
      "1,2,3,4,99,5,6,7,8,9,10,"
     ]
    }
   ],
   "source": [
    "import array as arr\n",
    "val=arr.array('i',[1,2,3,4,5,6,7,8,9,10])\n",
    "val.insert(4,99)\n",
    "for i in range(len(val)):\n",
    "    print(val[i],end=\",\")"
   ]
  },
  {
   "cell_type": "code",
   "execution_count": 17,
   "metadata": {},
   "outputs": [
    {
     "name": "stdout",
     "output_type": "stream",
     "text": [
      "1,2,3,4,6,7,8,9,10,"
     ]
    }
   ],
   "source": [
    "import array as arr\n",
    "val=arr.array('i',[1,2,3,4,5,6,7,8,9,10])\n",
    "val.remove(5)\n",
    "for i in range(len(val)):\n",
    "    print(val[i],end=\",\")"
   ]
  },
  {
   "cell_type": "code",
   "execution_count": 21,
   "metadata": {},
   "outputs": [
    {
     "name": "stdout",
     "output_type": "stream",
     "text": [
      "1,2,3,4,6,7,8,9,10,"
     ]
    }
   ],
   "source": [
    "import array as arr\n",
    "val=arr.array('i',[1,2,3,4,5,6,7,8,9,10])\n",
    "val.pop(4)\n",
    "for i in range(len(val)):\n",
    "    print(val[i],end=\",\")"
   ]
  },
  {
   "cell_type": "code",
   "execution_count": 27,
   "metadata": {},
   "outputs": [
    {
     "name": "stdout",
     "output_type": "stream",
     "text": [
      "The maximum element is:  11\n"
     ]
    }
   ],
   "source": [
    "# program for biggest element in an array \n",
    "import array as arr\n",
    "val=arr.array('i',[1,2,3,4,5,6,7,8,9,10,11,2,4])\n",
    "max=val[0]\n",
    "for i in range(len(val)):\n",
    "    if val[i]>max:\n",
    "        max=val[i]\n",
    "print(\"The maximum element is: \",max) \n"
   ]
  },
  {
   "cell_type": "code",
   "execution_count": null,
   "metadata": {},
   "outputs": [],
   "source": []
  }
 ],
 "metadata": {
  "kernelspec": {
   "display_name": "base",
   "language": "python",
   "name": "python3"
  },
  "language_info": {
   "codemirror_mode": {
    "name": "ipython",
    "version": 3
   },
   "file_extension": ".py",
   "mimetype": "text/x-python",
   "name": "python",
   "nbconvert_exporter": "python",
   "pygments_lexer": "ipython3",
   "version": "3.10.10"
  },
  "orig_nbformat": 4
 },
 "nbformat": 4,
 "nbformat_minor": 2
}
