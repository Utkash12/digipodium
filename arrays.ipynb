{
 "cells": [
  {
   "cell_type": "code",
   "execution_count": 2,
   "metadata": {},
   "outputs": [
    {
     "name": "stdout",
     "output_type": "stream",
     "text": [
      "1 2 3 4 5 "
     ]
    }
   ],
   "source": [
    "import array as arr\n",
    "val=arr.array('i',[1,2,3,4,5,6])\n",
    "for i in range(0,5):\n",
    "    print(val[i],end=\" \")"
   ]
  },
  {
   "cell_type": "code",
   "execution_count": 7,
   "metadata": {},
   "outputs": [
    {
     "name": "stdout",
     "output_type": "stream",
     "text": [
      "The element at at position 0 will be 1\n",
      "The element at at position 1 will be 2\n",
      "The element at at position 2 will be 3\n",
      "The element at at position 3 will be 4\n",
      "The element at at position 4 will be 5\n",
      "The element at at position 5 will be 6\n",
      "The element at at position 6 will be 7\n",
      "\n",
      "\n",
      "The length of array will be:  7\n"
     ]
    }
   ],
   "source": [
    "import array as arr\n",
    "val=arr.array('i',[1,2,3,4,5,6,7])\n",
    "length=len(val)\n",
    "for i in range(0,length):\n",
    "    print(f\"The element at at position {i} will be {val[i]}\", end=\"\\n\")\n",
    "print(\"\\n\")\n",
    "print(\"The length of array will be: \",len(val))"
   ]
  },
  {
   "cell_type": "code",
   "execution_count": 9,
   "metadata": {},
   "outputs": [
    {
     "name": "stdout",
     "output_type": "stream",
     "text": [
      "Array before insertion :  1 2 3 \n",
      "Array after insertion :  1 2 3 4 \n"
     ]
    }
   ],
   "source": [
    "import array as arr\n",
    "a = arr.array('i', [1, 2, 3])\n",
    "print(\"Array before insertion : \", end=\" \")\n",
    "for i in range(0, 3):\n",
    "\tprint(a[i], end=\" \")\n",
    "print()\n",
    "a.insert(1, 4)\n",
    "print(\"Array after insertion : \", end=\" \")\n",
    "for i in (a):\n",
    "\tprint(i, end=\" \")\n",
    "print()\n"
   ]
  },
  {
   "cell_type": "code",
   "execution_count": 11,
   "metadata": {},
   "outputs": [
    {
     "name": "stdout",
     "output_type": "stream",
     "text": [
      "1\n",
      "2\n",
      "3\n",
      "4\n",
      "5\n",
      "6\n"
     ]
    }
   ],
   "source": [
    "import array as arr\n",
    "val=arr.array('i',[1,2,3,4,5,6])\n",
    "for i in range(0,6):\n",
    "    print(val[i])"
   ]
  },
  {
   "cell_type": "code",
   "execution_count": 2,
   "metadata": {},
   "outputs": [
    {
     "name": "stdout",
     "output_type": "stream",
     "text": [
      "2.45, 4.56, 4.12, 2.34, \n",
      "\n",
      "2.45,4.56,4.78,4.12,2.34,"
     ]
    }
   ],
   "source": [
    "import array as arr\n",
    "val=arr.array('d',[2.45,4.56,4.12,2.34])\n",
    "length=len(val)\n",
    "for i in range(0,length):\n",
    "    print(val[i],end=\", \")\n",
    "print(\"\\n\")\n",
    "val.insert(2,4.78)\n",
    "length1=len(val)\n",
    "for i in range(0,length1):\n",
    "    print(val[i],end=\",\")"
   ]
  },
  {
   "cell_type": "code",
   "execution_count": 3,
   "metadata": {},
   "outputs": [
    {
     "name": "stdout",
     "output_type": "stream",
     "text": [
      "10,20,30,40,"
     ]
    }
   ],
   "source": [
    "import array as arr\n",
    "val=arr.array('i',[])\n",
    "length=int(input(\"Enter the length: \"))\n",
    "for i in range(length):\n",
    "    n=int(input(\"enter the number: \"))\n",
    "    val.insert(i,n)\n",
    "for i in range(length):\n",
    "    print(val[i],end=\",\")"
   ]
  },
  {
   "cell_type": "code",
   "execution_count": 4,
   "metadata": {},
   "outputs": [
    {
     "name": "stdout",
     "output_type": "stream",
     "text": [
      "10,20,30,40,"
     ]
    }
   ],
   "source": [
    "import array as arr\n",
    "val=arr.array('i',[])\n",
    "length=int(input(\"Enter the length: \"))\n",
    "for i in range(length):\n",
    "    n=int(input(\"enter the number: \"))\n",
    "    val.insert(i,n)\n",
    "for i in range(length):\n",
    "    print(val[i],end=\",\")"
   ]
  },
  {
   "cell_type": "code",
   "execution_count": 5,
   "metadata": {},
   "outputs": [
    {
     "name": "stdout",
     "output_type": "stream",
     "text": [
      "10\n",
      "20\n",
      "30\n",
      "40\n"
     ]
    }
   ],
   "source": [
    "import array as arr\n",
    "n=int(input(\"Enter the length of the array: \"))\n",
    "val=arr.array('i',[])\n",
    "for i in range(n):\n",
    "    digit=int(input(\"Enter the number: \"))\n",
    "    val.append(digit)\n",
    "for i in range(n):\n",
    "    print(val[i])"
   ]
  },
  {
   "cell_type": "code",
   "execution_count": 12,
   "metadata": {},
   "outputs": [
    {
     "name": "stdout",
     "output_type": "stream",
     "text": [
      "The value at 0 is  0 10\n",
      "The value at 1 is  1 20\n",
      "The value at 2 is  2 30\n",
      "The value at 3 is  3 40\n"
     ]
    }
   ],
   "source": [
    "import array as arr\n",
    "length=int(input(\"Enter the length of the array: \"))\n",
    "val=arr.array('i',[])\n",
    "for i in range(length):\n",
    "    num=int(input(f\"Enter the number at {i}:\"))\n",
    "    val.append(num)\n",
    "    print(f\"The value at {i} is \",val[i])"
   ]
  },
  {
   "cell_type": "code",
   "execution_count": 14,
   "metadata": {},
   "outputs": [
    {
     "name": "stdout",
     "output_type": "stream",
     "text": [
      "1,2,3,4,99,5,6,7,8,9,10,"
     ]
    }
   ],
   "source": [
    "import array as arr\n",
    "val=arr.array('i',[1,2,3,4,5,6,7,8,9,10])\n",
    "val.insert(4,99)\n",
    "for i in range(len(val)):\n",
    "    print(val[i],end=\",\")"
   ]
  },
  {
   "cell_type": "code",
   "execution_count": 17,
   "metadata": {},
   "outputs": [
    {
     "name": "stdout",
     "output_type": "stream",
     "text": [
      "1,2,3,4,6,7,8,9,10,"
     ]
    }
   ],
   "source": [
    "import array as arr\n",
    "val=arr.array('i',[1,2,3,4,5,6,7,8,9,10])\n",
    "val.remove(5)\n",
    "for i in range(len(val)):\n",
    "    print(val[i],end=\",\")"
   ]
  },
  {
   "cell_type": "code",
   "execution_count": 21,
   "metadata": {},
   "outputs": [
    {
     "name": "stdout",
     "output_type": "stream",
     "text": [
      "1,2,3,4,6,7,8,9,10,"
     ]
    }
   ],
   "source": [
    "import array as arr\n",
    "val=arr.array('i',[1,2,3,4,5,6,7,8,9,10])\n",
    "val.pop(4)\n",
    "for i in range(len(val)):\n",
    "    print(val[i],end=\",\")"
   ]
  },
  {
   "cell_type": "code",
   "execution_count": 27,
   "metadata": {},
   "outputs": [
    {
     "name": "stdout",
     "output_type": "stream",
     "text": [
      "The maximum element is:  11\n"
     ]
    }
   ],
   "source": [
    "# program for biggest element in an array \n",
    "import array as arr\n",
    "val=arr.array('i',[1,2,3,4,5,6,7,8,9,10,11,2,4])\n",
    "max=val[0]\n",
    "for i in range(len(val)):\n",
    "    if val[i]>max:\n",
    "        max=val[i]\n",
    "print(\"The maximum element is: \",max) \n"
   ]
  },
  {
   "cell_type": "code",
   "execution_count": 32,
   "metadata": {},
   "outputs": [
    {
     "name": "stdout",
     "output_type": "stream",
     "text": [
      "The value at position 0 is:  10\n",
      "The value at position 1 is:  20\n",
      "The value at position 2 is:  55\n",
      "The value at position 3 is:  44\n",
      "The maximum element is:  55\n"
     ]
    }
   ],
   "source": [
    "import array as arr\n",
    "length=int(input(\"Enter the length of the array: \"))\n",
    "val=arr.array('i',[])\n",
    "for i in range(length):\n",
    "    num=int(input(f\"Enter the number at position {i} : \"))\n",
    "    val.append(num)\n",
    "    print(f\"The value at position {i} is: \",val[i])\n",
    "max=val[0]\n",
    "for i in range(len(val)):\n",
    "    if val[i]>max:\n",
    "        max=val[i]\n",
    "print(\"The maximum element is: \",max)"
   ]
  },
  {
   "cell_type": "code",
   "execution_count": 33,
   "metadata": {},
   "outputs": [
    {
     "name": "stdout",
     "output_type": "stream",
     "text": [
      "55\n",
      "44\n",
      "88\n",
      "99\n",
      "The minimum value is  44\n"
     ]
    }
   ],
   "source": [
    "import array as arr\n",
    "length=int(input(\"Enter the length of the array: \"))\n",
    "val=arr.array('i',[])\n",
    "for i in range(length):\n",
    "    num=int(input(\"Enter the number at position {i} : \"))\n",
    "    val.append(num)\n",
    "    print(val[i])\n",
    "min=val[0]\n",
    "for i in range(len(val)):\n",
    "    if val[i]<min:\n",
    "        min=val[i]\n",
    "print(\"The minimum value is \", min)"
   ]
  },
  {
   "cell_type": "code",
   "execution_count": 43,
   "metadata": {},
   "outputs": [
    {
     "name": "stdout",
     "output_type": "stream",
     "text": [
      "1,2,3,4,5,6,7,8,9,10,\n",
      "\n",
      "10,9,8,7,6,5,4,3,2,1,\n",
      "\n",
      "1,3,5,7,9,\n",
      "\n",
      "2,4,6,8,10,\n",
      "\n",
      "10,8,6,4,2,\n",
      "\n",
      "5,3,1,\n",
      "\n"
     ]
    }
   ],
   "source": [
    "arr=[1,2,3,4,5,6,7,8,9,10]\n",
    "for i in range(len(arr)):\n",
    "    print(arr[i],end=\",\")\n",
    "print(\"\\n\")\n",
    "res=arr[::-1]\n",
    "for i in range(len(res)):\n",
    "    print(res[i],end=\",\")\n",
    "print(\"\\n\")\n",
    "res2=arr[::2]\n",
    "for i in range(len(res2)):\n",
    "    print(res2[i],end=\",\")\n",
    "print(\"\\n\")\n",
    "res3=arr[1::2]\n",
    "for i in range(len(res3)):\n",
    "    print(res3[i],end=\",\")\n",
    "print(\"\\n\")\n",
    "res4=arr[::-2]\n",
    "for i in range(len(res4)):\n",
    "    print(res4[i],end=\",\")\n",
    "print(\"\\n\")"
   ]
  },
  {
   "cell_type": "code",
   "execution_count": 58,
   "metadata": {},
   "outputs": [
    {
     "name": "stdout",
     "output_type": "stream",
     "text": [
      "10\n",
      "20\n",
      "30\n",
      "40\n",
      "The length of the array is:  4\n",
      "40,30,20,10,\n",
      "\n",
      "None\n"
     ]
    }
   ],
   "source": [
    "import array as arr\n",
    "length=int(input(\"Enter the length of the array: \"))\n",
    "val=arr.array('i',[])\n",
    "for i in range(length):\n",
    "    num=int(input(\"Enter the number at position {i}: \"))\n",
    "    val.append(num)\n",
    "    print(val[i])\n",
    "leng=len(val)\n",
    "print(\"The length of the array is: \",leng)\n",
    "res=val[::-1]\n",
    "for i in range(len(res)):\n",
    "    print(res[i],end=\",\")\n",
    "print(\"\\n\")"
   ]
  },
  {
   "cell_type": "code",
   "execution_count": 59,
   "metadata": {},
   "outputs": [
    {
     "name": "stdout",
     "output_type": "stream",
     "text": [
      "Before reversal Array is : [11, 22, 33, 44, 55]\n",
      "After reversing Array: [55, 44, 33, 22, 11]\n"
     ]
    }
   ],
   "source": [
    "arr = [11, 22, 33, 44, 55]\n",
    "print(\"Before reversal Array is :\",arr)\n",
    " \n",
    "arr.reverse() #reversing using reverse()\n",
    "print(\"After reversing Array:\",arr)\n"
   ]
  },
  {
   "cell_type": "code",
   "execution_count": 2,
   "metadata": {},
   "outputs": [
    {
     "name": "stdout",
     "output_type": "stream",
     "text": [
      "10,9,8,7,6,5,4,3,2,1,\n",
      "\n"
     ]
    }
   ],
   "source": [
    "arr23=[1,2,3,4,5,6,7,8,9,10]\n",
    "arr23.reverse()\n",
    "for i in range(len(arr23)):\n",
    "    print(arr23[i],end=\",\")\n",
    "print(\"\\n\")\n"
   ]
  },
  {
   "cell_type": "code",
   "execution_count": 3,
   "metadata": {},
   "outputs": [
    {
     "name": "stdout",
     "output_type": "stream",
     "text": [
      "[10, 9, 8, 7, 6, 5, 4, 3, 2, 1]\n"
     ]
    }
   ],
   "source": [
    "arr24=[1,2,3,4,5,6,7,8,9,10]\n",
    "arr24.reverse()\n",
    "print(arr24)"
   ]
  },
  {
   "cell_type": "code",
   "execution_count": 7,
   "metadata": {},
   "outputs": [
    {
     "name": "stdout",
     "output_type": "stream",
     "text": [
      "10,20,30,40,The average will be:  25.0\n"
     ]
    }
   ],
   "source": [
    "import array as arr\n",
    "val=arr.array('i',[])\n",
    "ave=0\n",
    "n=int(input(\"Enter the length of the array: \"))\n",
    "for i in range(n):\n",
    "    num=int(input(\"Enter the number\"))\n",
    "    val.append(num)\n",
    "for i in range(n):\n",
    "    print(val[i],end=\",\")\n",
    "for i in range(n):\n",
    "    ave=ave+val[i]\n",
    "average=ave/n\n",
    "print(\"\\n\")\n",
    "print(\"The average will be: \",average)"
   ]
  },
  {
   "cell_type": "code",
   "execution_count": 11,
   "metadata": {},
   "outputs": [
    {
     "name": "stdout",
     "output_type": "stream",
     "text": [
      "10\n",
      "20\n",
      "30\n",
      "40\n"
     ]
    },
    {
     "ename": "KeyboardInterrupt",
     "evalue": "",
     "output_type": "error",
     "traceback": [
      "\u001b[1;31m---------------------------------------------------------------------------\u001b[0m",
      "\u001b[1;31mKeyboardInterrupt\u001b[0m                         Traceback (most recent call last)",
      "Cell \u001b[1;32mIn[11], line 11\u001b[0m\n\u001b[0;32m      9\u001b[0m \u001b[39mmin\u001b[39m\u001b[39m=\u001b[39mval[\u001b[39m0\u001b[39m]\n\u001b[0;32m     10\u001b[0m \u001b[39mwhile\u001b[39;00m i\u001b[39m<\u001b[39mn:\n\u001b[1;32m---> 11\u001b[0m     \u001b[39mif\u001b[39;00m val[i]\u001b[39m<\u001b[39;49m\u001b[39mmin\u001b[39;49m:\n\u001b[0;32m     12\u001b[0m         \u001b[39mmin\u001b[39m\u001b[39m=\u001b[39mval[i]\n\u001b[0;32m     13\u001b[0m         i\u001b[39m=\u001b[39mi\u001b[39m+\u001b[39m\u001b[39m1\u001b[39m\n",
      "\u001b[1;31mKeyboardInterrupt\u001b[0m: "
     ]
    }
   ],
   "source": [
    "import array as arr\n",
    "val=arr.array('i',[])\n",
    "n=int(input(\"Enter the length of the array: \"))\n",
    "for i in range(n):\n",
    "    num=int(input(\"Enter the number\"))\n",
    "    val.append(num)\n",
    "for i in range(n):\n",
    "    print(val[i])\n",
    "min=val[0]\n",
    "while i<n:\n",
    "    if val[i]<min:\n",
    "        min=val[i]\n",
    "        i=i+1\n",
    "print(\"The minimum value will be: \",min)"
   ]
  },
  {
   "cell_type": "code",
   "execution_count": null,
   "metadata": {},
   "outputs": [],
   "source": []
  }
 ],
 "metadata": {
  "kernelspec": {
   "display_name": "base",
   "language": "python",
   "name": "python3"
  },
  "language_info": {
   "codemirror_mode": {
    "name": "ipython",
    "version": 3
   },
   "file_extension": ".py",
   "mimetype": "text/x-python",
   "name": "python",
   "nbconvert_exporter": "python",
   "pygments_lexer": "ipython3",
   "version": "3.10.10"
  },
  "orig_nbformat": 4
 },
 "nbformat": 4,
 "nbformat_minor": 2
}
