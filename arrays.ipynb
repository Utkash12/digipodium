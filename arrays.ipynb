{
 "cells": [
  {
   "cell_type": "code",
   "execution_count": 2,
   "metadata": {},
   "outputs": [
    {
     "name": "stdout",
     "output_type": "stream",
     "text": [
      "1 2 3 4 5 "
     ]
    }
   ],
   "source": [
    "import array as arr\n",
    "val=arr.array('i',[1,2,3,4,5,6])\n",
    "for i in range(0,5):\n",
    "    print(val[i],end=\" \")"
   ]
  },
  {
   "cell_type": "code",
   "execution_count": 7,
   "metadata": {},
   "outputs": [
    {
     "name": "stdout",
     "output_type": "stream",
     "text": [
      "The element at at position 0 will be 1\n",
      "The element at at position 1 will be 2\n",
      "The element at at position 2 will be 3\n",
      "The element at at position 3 will be 4\n",
      "The element at at position 4 will be 5\n",
      "The element at at position 5 will be 6\n",
      "The element at at position 6 will be 7\n",
      "\n",
      "\n",
      "The length of array will be:  7\n"
     ]
    }
   ],
   "source": [
    "import array as arr\n",
    "val=arr.array('i',[1,2,3,4,5,6,7])\n",
    "length=len(val)\n",
    "for i in range(0,length):\n",
    "    print(f\"The element at at position {i} will be {val[i]}\", end=\"\\n\")\n",
    "print(\"\\n\")\n",
    "print(\"The length of array will be: \",len(val))"
   ]
  },
  {
   "cell_type": "code",
   "execution_count": 9,
   "metadata": {},
   "outputs": [
    {
     "name": "stdout",
     "output_type": "stream",
     "text": [
      "Array before insertion :  1 2 3 \n",
      "Array after insertion :  1 2 3 4 \n"
     ]
    }
   ],
   "source": [
    "import array as arr\n",
    "a = arr.array('i', [1, 2, 3])\n",
    "print(\"Array before insertion : \", end=\" \")\n",
    "for i in range(0, 3):\n",
    "\tprint(a[i], end=\" \")\n",
    "print()\n",
    "a.insert(1, 4)\n",
    "print(\"Array after insertion : \", end=\" \")\n",
    "for i in (a):\n",
    "\tprint(i, end=\" \")\n",
    "print()\n"
   ]
  },
  {
   "cell_type": "code",
   "execution_count": 11,
   "metadata": {},
   "outputs": [
    {
     "name": "stdout",
     "output_type": "stream",
     "text": [
      "1\n",
      "2\n",
      "3\n",
      "4\n",
      "5\n",
      "6\n"
     ]
    }
   ],
   "source": [
    "import array as arr\n",
    "val=arr.array('i',[1,2,3,4,5,6])\n",
    "for i in range(0,6):\n",
    "    print(val[i])"
   ]
  },
  {
   "cell_type": "code",
   "execution_count": 2,
   "metadata": {},
   "outputs": [
    {
     "name": "stdout",
     "output_type": "stream",
     "text": [
      "2.45, 4.56, 4.12, 2.34, \n",
      "\n",
      "2.45,4.56,4.78,4.12,2.34,"
     ]
    }
   ],
   "source": [
    "import array as arr\n",
    "val=arr.array('d',[2.45,4.56,4.12,2.34])\n",
    "length=len(val)\n",
    "for i in range(0,length):\n",
    "    print(val[i],end=\", \")\n",
    "print(\"\\n\")\n",
    "val.insert(2,4.78)\n",
    "length1=len(val)\n",
    "for i in range(0,length1):\n",
    "    print(val[i],end=\",\")"
   ]
  },
  {
   "cell_type": "code",
   "execution_count": 3,
   "metadata": {},
   "outputs": [
    {
     "name": "stdout",
     "output_type": "stream",
     "text": [
      "10,20,30,40,"
     ]
    }
   ],
   "source": [
    "import array as arr\n",
    "val=arr.array('i',[])\n",
    "length=int(input(\"Enter the length: \"))\n",
    "for i in range(length):\n",
    "    n=int(input(\"enter the number: \"))\n",
    "    val.insert(i,n)\n",
    "for i in range(length):\n",
    "    print(val[i],end=\",\")"
   ]
  },
  {
   "cell_type": "code",
   "execution_count": 4,
   "metadata": {},
   "outputs": [
    {
     "name": "stdout",
     "output_type": "stream",
     "text": [
      "10,20,30,40,"
     ]
    }
   ],
   "source": [
    "import array as arr\n",
    "val=arr.array('i',[])\n",
    "length=int(input(\"Enter the length: \"))\n",
    "for i in range(length):\n",
    "    n=int(input(\"enter the number: \"))\n",
    "    val.insert(i,n)\n",
    "for i in range(length):\n",
    "    print(val[i],end=\",\")"
   ]
  },
  {
   "cell_type": "code",
   "execution_count": null,
   "metadata": {},
   "outputs": [],
   "source": []
  }
 ],
 "metadata": {
  "kernelspec": {
   "display_name": "base",
   "language": "python",
   "name": "python3"
  },
  "language_info": {
   "codemirror_mode": {
    "name": "ipython",
    "version": 3
   },
   "file_extension": ".py",
   "mimetype": "text/x-python",
   "name": "python",
   "nbconvert_exporter": "python",
   "pygments_lexer": "ipython3",
   "version": "3.10.10"
  },
  "orig_nbformat": 4
 },
 "nbformat": 4,
 "nbformat_minor": 2
}
