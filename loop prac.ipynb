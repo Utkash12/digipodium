{
 "cells": [
  {
   "cell_type": "code",
   "execution_count": 4,
   "metadata": {},
   "outputs": [
    {
     "name": "stdout",
     "output_type": "stream",
     "text": [
      "1\n",
      "2\n",
      "3\n",
      "4\n",
      "5\n",
      "6\n",
      "7\n",
      "8\n",
      "9\n",
      "10\n"
     ]
    }
   ],
   "source": [
    "numbers=[1,2,3,4,5,6,7,8,9,10]\n",
    "for num in numbers:\n",
    "    print(num)"
   ]
  },
  {
   "cell_type": "code",
   "execution_count": 7,
   "metadata": {},
   "outputs": [
    {
     "name": "stdout",
     "output_type": "stream",
     "text": [
      "10\n"
     ]
    }
   ],
   "source": [
    "print(len(numbers))"
   ]
  },
  {
   "cell_type": "code",
   "execution_count": 8,
   "metadata": {},
   "outputs": [
    {
     "name": "stdout",
     "output_type": "stream",
     "text": [
      "1\n",
      "2\n",
      "3\n",
      "4\n",
      "5\n",
      "6\n",
      "7\n",
      "8\n",
      "9\n",
      "the length will be 9\n"
     ]
    }
   ],
   "source": [
    "a=[1,2,3,4,5,6,7,8,9]\n",
    "for i in a:\n",
    "    print(i)\n",
    "print(f\"the length will be {len(a)}\")\n",
    "\n"
   ]
  },
  {
   "cell_type": "code",
   "execution_count": 9,
   "metadata": {},
   "outputs": [
    {
     "name": "stdout",
     "output_type": "stream",
     "text": [
      "first second third forth "
     ]
    }
   ],
   "source": [
    "movies=['first', 'second','third','forth']\n",
    "for i in movies:\n",
    "    print(i,end=\" \")"
   ]
  },
  {
   "cell_type": "code",
   "execution_count": 11,
   "metadata": {},
   "outputs": [
    {
     "name": "stdout",
     "output_type": "stream",
     "text": [
      "['first', 'second', 'third']\n"
     ]
    }
   ],
   "source": [
    "movies=['first', 'second','third','forth']\n",
    "print(movies[0:3])"
   ]
  },
  {
   "cell_type": "code",
   "execution_count": 12,
   "metadata": {},
   "outputs": [
    {
     "name": "stdout",
     "output_type": "stream",
     "text": [
      "first second third forth eleventh \n",
      "\n",
      "5\n",
      "\n",
      "\n",
      "5\n",
      "6\n",
      "5\n",
      "5\n",
      "8\n"
     ]
    }
   ],
   "source": [
    "movies=['first', 'second','third','forth','eleventh']\n",
    "for i in movies:\n",
    "    print(i,end=\" \")\n",
    "print(\"\\n\")\n",
    "print(len(movies))\n",
    "print(\"\\n\")\n",
    "for i in movies:\n",
    "    print(len(i))"
   ]
  },
  {
   "cell_type": "code",
   "execution_count": 13,
   "metadata": {},
   "outputs": [
    {
     "name": "stdout",
     "output_type": "stream",
     "text": [
      "5\n",
      "6\n",
      "5\n",
      "5\n",
      "5\n",
      "\n",
      "\n",
      "5\n",
      "\n",
      "\n",
      "ifrst\n",
      "third\n",
      "forth\n",
      "iffth\n"
     ]
    }
   ],
   "source": [
    "movies=['ifrst','second','third','forth','iffth']\n",
    "for title in movies:\n",
    "    print(len(title))\n",
    "print(\"\\n\")\n",
    "print(len(movies))\n",
    "print(\"\\n\")\n",
    "for title in movies:\n",
    "    if('t' in title):\n",
    "        print(title)\n"
   ]
  },
  {
   "cell_type": "code",
   "execution_count": 14,
   "metadata": {},
   "outputs": [
    {
     "name": "stdout",
     "output_type": "stream",
     "text": [
      "first              5 chars\n",
      "second             6 chars\n",
      "third              5 chars\n",
      "forth              5 chars\n",
      "fifth              5 chars\n",
      "sixth              5 chars\n",
      "seventh            7 chars\n"
     ]
    }
   ],
   "source": [
    "numbers=['first','second','third','forth','fifth','sixth','seventh']\n",
    "for num in numbers:\n",
    "    print(f\"{num:<10}{len(num):>10} chars\")"
   ]
  },
  {
   "cell_type": "code",
   "execution_count": 1,
   "metadata": {},
   "outputs": [
    {
     "name": "stdout",
     "output_type": "stream",
     "text": [
      "first\n",
      "second\n",
      "third\n",
      "fourth\n",
      "fifth\n",
      "sixth\n",
      "seventh\n",
      "7\n",
      "\n",
      "\n",
      "5\n",
      "6\n",
      "5\n",
      "6\n",
      "5\n",
      "5\n",
      "7\n"
     ]
    }
   ],
   "source": [
    "movies=[\"first\",\"second\",\"third\",\"fourth\",\"fifth\",\"sixth\",\"seventh\"]\n",
    "for title in movies:\n",
    "    print(title)\n",
    "print(len(movies))\n",
    "print(\"\\n\")\n",
    "for title in movies:\n",
    "    print(len(title))"
   ]
  },
  {
   "cell_type": "code",
   "execution_count": 2,
   "metadata": {},
   "outputs": [
    {
     "name": "stdout",
     "output_type": "stream",
     "text": [
      "     first:         5 chars\n",
      "    second:         6 chars\n",
      "     third:         5 chars\n",
      "    fourth:         6 chars\n",
      "     fifth:         5 chars\n",
      "     sixth:         5 chars\n",
      "   seventh:         7 chars\n"
     ]
    }
   ],
   "source": [
    "movies=[\"first\",\"second\",\"third\",\"fourth\",\"fifth\",\"sixth\",\"seventh\"]\n",
    "for title in movies:\n",
    "    print(f\"{title:>10}:{len(title):>10} chars\")"
   ]
  },
  {
   "cell_type": "code",
   "execution_count": 9,
   "metadata": {},
   "outputs": [
    {
     "name": "stdout",
     "output_type": "stream",
     "text": [
      "['Ram', '15', 'Alambagh']\n",
      "['Ramesh', '14', 'Krishna Nagar']\n",
      "['Shyam', '56', 'Charbagh']\n",
      "['Prashant', '34', 'Hazrat-ganj']\n",
      "['Ashish', '45', 'Aminabad']\n",
      "\n",
      "\n",
      "Ram\n",
      "Ramesh\n",
      "Shyam\n",
      "Prashant\n",
      "Ashish\n"
     ]
    }
   ],
   "source": [
    "address=[\n",
    "    ['Ram','15','Alambagh'],\n",
    "    ['Ramesh','14','Krishna Nagar'],\n",
    "    ['Shyam','56','Charbagh'],\n",
    "    ['Prashant','34','Hazrat-ganj'],\n",
    "    ['Ashish','45','Aminabad'],\n",
    "    ]\n",
    "for persons in address:\n",
    "    print(persons)\n",
    "print(\"\\n\")\n",
    "for persons in address:\n",
    "    print(persons[0])"
   ]
  },
  {
   "cell_type": "code",
   "execution_count": 10,
   "metadata": {},
   "outputs": [
    {
     "name": "stdout",
     "output_type": "stream",
     "text": [
      "The age of Ram is 15\n",
      "The age of Ramesh is 14\n",
      "The age of Shyam is 56\n",
      "The age of Prashant is 34\n",
      "The age of Ashish is 45\n"
     ]
    }
   ],
   "source": [
    "address=[\n",
    "    ['Ram','15','Alambagh'],\n",
    "    ['Ramesh','14','Krishna Nagar'],\n",
    "    ['Shyam','56','Charbagh'],\n",
    "    ['Prashant','34','Hazrat-ganj'],\n",
    "    ['Ashish','45','Aminabad'],\n",
    "    ]\n",
    "for title in address:\n",
    "    print(f\"The age of {title[0]} is {title[1]}\")"
   ]
  },
  {
   "cell_type": "code",
   "execution_count": null,
   "metadata": {},
   "outputs": [],
   "source": []
  }
 ],
 "metadata": {
  "kernelspec": {
   "display_name": "base",
   "language": "python",
   "name": "python3"
  },
  "language_info": {
   "codemirror_mode": {
    "name": "ipython",
    "version": 3
   },
   "file_extension": ".py",
   "mimetype": "text/x-python",
   "name": "python",
   "nbconvert_exporter": "python",
   "pygments_lexer": "ipython3",
   "version": "3.10.10"
  },
  "orig_nbformat": 4
 },
 "nbformat": 4,
 "nbformat_minor": 2
}
