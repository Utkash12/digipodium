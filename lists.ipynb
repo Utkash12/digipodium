{
 "cells": [
  {
   "cell_type": "markdown",
   "metadata": {},
   "source": []
  },
  {
   "cell_type": "markdown",
   "metadata": {},
   "source": [
    "## data structures\n",
    "## lists\n",
    "    -indexed,ordered,changeable,allows duplicate values\n",
    "## tuples\n",
    "    -indexed,ordered,unchangeable,allows duplicate values\n",
    "## dictionaries\n",
    "    -indexed,unordered,changeable,does not allow duplicate values\n",
    "## sets\n",
    "    -indexed,unordered,unchangeable,does not allow duplicate values\n",
    "\n"
   ]
  },
  {
   "cell_type": "markdown",
   "metadata": {},
   "source": []
  },
  {
   "cell_type": "code",
   "execution_count": 5,
   "metadata": {},
   "outputs": [
    {
     "name": "stdout",
     "output_type": "stream",
     "text": [
      "[]\n",
      "[1, 2, 3, 4, 5]\n",
      "['sunday', 'monday', 'tuesday', 'wednesday', 'thursday', 'friday', 'saturday']\n",
      "['milk', 30, 'bread', 20, 'butter', 40]\n",
      "[[1, 2, 3], [4, 5, 6], [7, 8, 9], [10, 12, 13, 14, 12]]\n",
      "[10, 10, 10, 10, 10, 10, 10, 10, 10, 10, 10, 10, 10, 10, 10, 10, 10, 10, 10, 10, 10, 10, 10, 10, 10]\n",
      "[1, 2, 1, 2, 1, 2, 1, 2, 1, 2, 1, 2, 1, 2, 1, 2, 1, 2, 1, 2]\n"
     ]
    }
   ],
   "source": [
    "# creating a list\n",
    "x=[] # empty list\n",
    "y=[1,2,3,4,5] # list of integers\n",
    "z=['sunday','monday','tuesday','wednesday','thursday','friday','saturday'] # list of strings\n",
    "grocery=['milk',30,'bread',20,'butter',40] # list of mixed data types\n",
    "info=[[1,2,3],[4,5,6],[7,8,9],[10,12,13,14,12]] # list of lists\n",
    "a=[10]*25 # list of 25 elements with value 10\n",
    "b=[1,2]*10\n",
    "print(x)\n",
    "print(y)\n",
    "print(z)\n",
    "print(grocery)\n",
    "print(info)\n",
    "print(a)\n",
    "print(b)"
   ]
  },
  {
   "cell_type": "code",
   "execution_count": 11,
   "metadata": {},
   "outputs": [
    {
     "ename": "ValueError",
     "evalue": "invalid literal for int() with base 10: ''",
     "output_type": "error",
     "traceback": [
      "\u001b[1;31m---------------------------------------------------------------------------\u001b[0m",
      "\u001b[1;31mValueError\u001b[0m                                Traceback (most recent call last)",
      "Cell \u001b[1;32mIn[11], line 3\u001b[0m\n\u001b[0;32m      1\u001b[0m c\u001b[39m=\u001b[39m[]\n\u001b[0;32m      2\u001b[0m c\u001b[39m.\u001b[39mappend(\u001b[39m10\u001b[39m)\n\u001b[1;32m----> 3\u001b[0m c\u001b[39m.\u001b[39mappend(\u001b[39mint\u001b[39;49m(\u001b[39minput\u001b[39;49m(\u001b[39m'\u001b[39;49m\u001b[39mEnter a number: \u001b[39;49m\u001b[39m'\u001b[39;49m)))\n\u001b[0;32m      4\u001b[0m \u001b[39mprint\u001b[39m(c)\n",
      "\u001b[1;31mValueError\u001b[0m: invalid literal for int() with base 10: ''"
     ]
    }
   ],
   "source": [
    "c=[]\n",
    "c.append(10)\n",
    "c.append(int(input('Enter a number: ')))\n",
    "print(c)"
   ]
  },
  {
   "cell_type": "code",
   "execution_count": 12,
   "metadata": {},
   "outputs": [
    {
     "name": "stdout",
     "output_type": "stream",
     "text": [
      "1 5 2\n",
      "[1, 2]\n",
      "[3, 4, 5]\n",
      "[5, 4, 3, 2, 1]\n"
     ]
    }
   ],
   "source": [
    "print(y[0],y[-1],y[1])\n",
    "print(y[:2])\n",
    "print(y[-3:])\n",
    "print(y[::-1])"
   ]
  },
  {
   "cell_type": "code",
   "execution_count": 13,
   "metadata": {},
   "outputs": [
    {
     "name": "stdout",
     "output_type": "stream",
     "text": [
      "1 2 3 4 5 "
     ]
    }
   ],
   "source": [
    "for i in y:\n",
    "    print(i,end=' ')"
   ]
  },
  {
   "cell_type": "markdown",
   "metadata": {},
   "source": [
    "- list\n",
    "    -adding\n",
    "        -append()   -add single item to the end\n",
    "        -insert()   -insert single item at given index\n",
    "        -extend()   -merge a list to an existing list\n",
    "    -remove\n",
    "        -remove()   -remove single item by value\n",
    "        -pop()      -remove single item by index\n",
    "        -clear()    -remove all items\n",
    "    -utility\n",
    "        -index()    -find index of items by value\n",
    "        -count()    -counted repeated items\n",
    "        -sort()     -sort items\n",
    "        -reverse()  -reverse items\n",
    "        -copy()     -copy list"
   ]
  }
 ],
 "metadata": {
  "kernelspec": {
   "display_name": "base",
   "language": "python",
   "name": "python3"
  },
  "language_info": {
   "codemirror_mode": {
    "name": "ipython",
    "version": 3
   },
   "file_extension": ".py",
   "mimetype": "text/x-python",
   "name": "python",
   "nbconvert_exporter": "python",
   "pygments_lexer": "ipython3",
   "version": "3.10.10"
  },
  "orig_nbformat": 4
 },
 "nbformat": 4,
 "nbformat_minor": 2
}
