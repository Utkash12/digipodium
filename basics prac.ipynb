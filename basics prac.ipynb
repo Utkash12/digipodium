{
 "cells": [
  {
   "cell_type": "code",
   "execution_count": 3,
   "metadata": {},
   "outputs": [
    {
     "name": "stdout",
     "output_type": "stream",
     "text": [
      "20\n"
     ]
    }
   ],
   "source": [
    "a=10\n",
    "b=10\n",
    "c=a+b\n",
    "print(c)"
   ]
  },
  {
   "cell_type": "code",
   "execution_count": 4,
   "metadata": {},
   "outputs": [
    {
     "data": {
      "text/plain": [
       "20"
      ]
     },
     "execution_count": 4,
     "metadata": {},
     "output_type": "execute_result"
    }
   ],
   "source": [
    "10+10"
   ]
  },
  {
   "cell_type": "code",
   "execution_count": 5,
   "metadata": {},
   "outputs": [
    {
     "name": "stdout",
     "output_type": "stream",
     "text": [
      "the sum of a and b is 30\n"
     ]
    }
   ],
   "source": [
    "a=10\n",
    "b=20\n",
    "c=a+b\n",
    "print('the sum of a and b is',c)"
   ]
  },
  {
   "cell_type": "code",
   "execution_count": 6,
   "metadata": {},
   "outputs": [
    {
     "name": "stdout",
     "output_type": "stream",
     "text": [
      "the sum will be: 30\n"
     ]
    }
   ],
   "source": [
    "x=10\n",
    "y=20\n",
    "z=x+y\n",
    "print(\"the sum will be:\",z)"
   ]
  },
  {
   "cell_type": "code",
   "execution_count": 7,
   "metadata": {},
   "outputs": [
    {
     "name": "stdout",
     "output_type": "stream",
     "text": [
      "the sum of 10 and 20 will be: 30\n"
     ]
    }
   ],
   "source": [
    "x=10\n",
    "y=20\n",
    "z=x+y\n",
    "print(f\"the sum of {x} and {y} will be:\",z)"
   ]
  },
  {
   "cell_type": "code",
   "execution_count": 9,
   "metadata": {},
   "outputs": [
    {
     "data": {
      "text/plain": [
       "20.0"
      ]
     },
     "execution_count": 9,
     "metadata": {},
     "output_type": "execute_result"
    }
   ],
   "source": [
    "f=20\n",
    "float(a)"
   ]
  },
  {
   "cell_type": "code",
   "execution_count": 13,
   "metadata": {},
   "outputs": [
    {
     "name": "stdout",
     "output_type": "stream",
     "text": [
      "10\n",
      "10.0\n",
      "10\n"
     ]
    }
   ],
   "source": [
    "g=10\n",
    "print(g)\n",
    "print(float(g))\n",
    "print(str(g))"
   ]
  },
  {
   "cell_type": "code",
   "execution_count": 16,
   "metadata": {},
   "outputs": [
    {
     "name": "stdout",
     "output_type": "stream",
     "text": [
      "1010\n"
     ]
    }
   ],
   "source": [
    "j='10'\n",
    "x='10'\n",
    "z=j+x\n",
    "print(z)"
   ]
  },
  {
   "cell_type": "code",
   "execution_count": 17,
   "metadata": {},
   "outputs": [
    {
     "name": "stdout",
     "output_type": "stream",
     "text": [
      "1020\n"
     ]
    }
   ],
   "source": [
    "a=10\n",
    "b=str(a)\n",
    "c=20\n",
    "d=str(c)\n",
    "e=b+d\n",
    "print(e)"
   ]
  },
  {
   "cell_type": "code",
   "execution_count": 1,
   "metadata": {},
   "outputs": [
    {
     "name": "stdout",
     "output_type": "stream",
     "text": [
      "The sum of 10 and 20 will be:  30\n"
     ]
    }
   ],
   "source": [
    "a=int(input(\"Enter the first number: \"))\n",
    "b=int(input(\"Enter the second number: \"))\n",
    "c=a+b\n",
    "print(f\"The sum of {a} and {b} will be: \",c)"
   ]
  },
  {
   "cell_type": "code",
   "execution_count": 2,
   "metadata": {},
   "outputs": [
    {
     "name": "stdout",
     "output_type": "stream",
     "text": [
      "The SI for principle 50023.23, rate 5.36, and time 9.0 will be: 24131.206152000002\n"
     ]
    }
   ],
   "source": [
    "p=float(input(\"Enter the principle: \"))\n",
    "r=float(input(\"Enter the rate of interest: \"))\n",
    "t=float(input(\"Enter the time of investment:\"))\n",
    "si=(p*r*t)/100\n",
    "print(f\"The SI for principle {p}, rate {r}, and time {t} will be:\", si)"
   ]
  },
  {
   "cell_type": "code",
   "execution_count": 4,
   "metadata": {},
   "outputs": [
    {
     "name": "stdout",
     "output_type": "stream",
     "text": [
      "Hello World\n"
     ]
    }
   ],
   "source": [
    "print(\"Hello World\")"
   ]
  },
  {
   "cell_type": "code",
   "execution_count": 5,
   "metadata": {},
   "outputs": [
    {
     "name": "stdout",
     "output_type": "stream",
     "text": [
      "20\n",
      "19\n",
      "18\n",
      "17\n",
      "16\n",
      "15\n",
      "14\n",
      "13\n",
      "12\n",
      "11\n",
      "10\n",
      "9\n",
      "8\n",
      "7\n",
      "6\n",
      "5\n",
      "4\n",
      "3\n",
      "2\n",
      "1\n"
     ]
    }
   ],
   "source": [
    "i=20\n",
    "while i>=1:\n",
    "    print(i)\n",
    "    i=i-1"
   ]
  },
  {
   "cell_type": "code",
   "execution_count": 6,
   "metadata": {},
   "outputs": [
    {
     "name": "stdout",
     "output_type": "stream",
     "text": [
      "20\n",
      "18\n",
      "16\n",
      "14\n",
      "12\n",
      "10\n",
      "8\n",
      "6\n",
      "4\n",
      "2\n"
     ]
    }
   ],
   "source": [
    "i=20\n",
    "while i>0:\n",
    "    print(i)\n",
    "    i=i-2"
   ]
  },
  {
   "cell_type": "code",
   "execution_count": 7,
   "metadata": {},
   "outputs": [
    {
     "name": "stdout",
     "output_type": "stream",
     "text": [
      "10\n"
     ]
    }
   ],
   "source": [
    "i=0\n",
    "a=0\n",
    "while a< 5:\n",
    "    i=i+a\n",
    "    a=a+1\n",
    "print(i)"
   ]
  },
  {
   "cell_type": "code",
   "execution_count": 8,
   "metadata": {},
   "outputs": [
    {
     "name": "stdout",
     "output_type": "stream",
     "text": [
      "Inside loop\n",
      "Inside loop\n",
      "Inside loop\n",
      "Inside else\n"
     ]
    }
   ],
   "source": [
    "counter = 0\n",
    "\n",
    "while counter < 3:\n",
    "    print('Inside loop')\n",
    "    counter = counter + 1\n",
    "else:\n",
    "    print('Inside else')"
   ]
  },
  {
   "cell_type": "code",
   "execution_count": 14,
   "metadata": {},
   "outputs": [
    {
     "name": "stdout",
     "output_type": "stream",
     "text": [
      "Inside loop\n"
     ]
    }
   ],
   "source": [
    "counter = 0\n",
    "\n",
    "while counter < 3:\n",
    "    print('Inside loop')\n",
    "    counter = counter + 1\n",
    "    break\n",
    "else:\n",
    "    print('Inside else')"
   ]
  },
  {
   "cell_type": "code",
   "execution_count": 13,
   "metadata": {},
   "outputs": [
    {
     "name": "stdout",
     "output_type": "stream",
     "text": [
      "10 \n",
      "12.23 \n",
      "hello\n"
     ]
    }
   ],
   "source": [
    "a=10\n",
    "b=12.23\n",
    "c=\"hello\"\n",
    "print(f'{a} \\n{b} \\n{c}')"
   ]
  },
  {
   "cell_type": "code",
   "execution_count": 15,
   "metadata": {},
   "outputs": [
    {
     "name": "stdout",
     "output_type": "stream",
     "text": [
      "['this', 'is', 'a', 'new', 'statement']\n"
     ]
    }
   ],
   "source": [
    "a='this is a new statement'\n",
    "val=a.split(\" \")\n",
    "print(val)"
   ]
  },
  {
   "cell_type": "code",
   "execution_count": 19,
   "metadata": {},
   "outputs": [
    {
     "name": "stdout",
     "output_type": "stream",
     "text": [
      "['this', 'is', 'a new statement']\n"
     ]
    }
   ],
   "source": [
    "a='this is a new statement'\n",
    "val=a.split(\" \",2)\n",
    "print(val)"
   ]
  },
  {
   "cell_type": "code",
   "execution_count": 23,
   "metadata": {},
   "outputs": [
    {
     "name": "stdout",
     "output_type": "stream",
     "text": [
      "The first number is 10.\n",
      "The second number is 20.\n",
      "The third number is 30.\n",
      "The total sum will be 102030\n"
     ]
    }
   ],
   "source": [
    "x,y,z= input(\"Enter the three numbers: \").split()\n",
    "print(f'The first number is {x}.')\n",
    "print(f'The second number is {y}.')\n",
    "print(f'The third number is {z}.')\n",
    "print(f'The total sum will be {x+y+z}')"
   ]
  },
  {
   "cell_type": "code",
   "execution_count": 28,
   "metadata": {},
   "outputs": [
    {
     "name": "stdout",
     "output_type": "stream",
     "text": [
      "hello I'm  max I'm  19  years old\n",
      "hello I'm max I'm 19 years old\n"
     ]
    }
   ],
   "source": [
    "a='max'\n",
    "b=19\n",
    "print(\"hello I'm \",a,\"I'm \",b,\" years old\")\n",
    "print(f\"hello I'm {a} I'm {b} years old\")"
   ]
  },
  {
   "cell_type": "code",
   "execution_count": 29,
   "metadata": {},
   "outputs": [
    {
     "name": "stdout",
     "output_type": "stream",
     "text": [
      "This is the first statement This is the second statement\n"
     ]
    }
   ],
   "source": [
    "print(\"This is the first statement\", end=\" \")\n",
    "print(\"This is the second statement\")"
   ]
  },
  {
   "cell_type": "code",
   "execution_count": 1,
   "metadata": {},
   "outputs": [
    {
     "name": "stdout",
     "output_type": "stream",
     "text": [
      "first-second-third\n"
     ]
    }
   ],
   "source": [
    "print(\"first\", \"second\", \"third\", sep=\"-\")"
   ]
  },
  {
   "cell_type": "code",
   "execution_count": 32,
   "metadata": {},
   "outputs": [
    {
     "name": "stdout",
     "output_type": "stream",
     "text": [
      "10*20*30\n"
     ]
    }
   ],
   "source": [
    "x=10\n",
    "y=20\n",
    "z=30\n",
    "print(x,y,z,sep=\"*\")"
   ]
  },
  {
   "cell_type": "code",
   "execution_count": 33,
   "metadata": {},
   "outputs": [
    {
     "name": "stdout",
     "output_type": "stream",
     "text": [
      "10-07-2014\n"
     ]
    }
   ],
   "source": [
    "x,y,z=input(\"Enter the date\").split()\n",
    "print(x,y,z,sep='-')"
   ]
  },
  {
   "cell_type": "code",
   "execution_count": 34,
   "metadata": {},
   "outputs": [
    {
     "name": "stdout",
     "output_type": "stream",
     "text": [
      "3.33\n"
     ]
    }
   ],
   "source": [
    "a=10\n",
    "b=3\n",
    "c=a/b\n",
    "print(f'{c:.2f}')"
   ]
  },
  {
   "cell_type": "code",
   "execution_count": 50,
   "metadata": {},
   "outputs": [
    {
     "name": "stdout",
     "output_type": "stream",
     "text": [
      "by multiplying 10.23 by 45.32 we get 463.84\n"
     ]
    }
   ],
   "source": [
    "a=10.2345\n",
    "b=45.321\n",
    "c=a*b\n",
    "print(f'by multiplying {a:.2f} by {b:.2f} we get {c:.2f}')"
   ]
  },
  {
   "cell_type": "code",
   "execution_count": 40,
   "metadata": {},
   "outputs": [
    {
     "name": "stdout",
     "output_type": "stream",
     "text": [
      "ram\n",
      "lko\n",
      "2020\n"
     ]
    }
   ],
   "source": [
    "name, city, year=input(\"Enter the details: \").split()\n",
    "print(name,city,year, sep=\"\\n\")"
   ]
  },
  {
   "cell_type": "code",
   "execution_count": 43,
   "metadata": {},
   "outputs": [
    {
     "name": "stdout",
     "output_type": "stream",
     "text": [
      "ram                  charan\n"
     ]
    }
   ],
   "source": [
    "first='ram'\n",
    "last='charan'\n",
    "print(f'{first:20} {last}')"
   ]
  },
  {
   "cell_type": "code",
   "execution_count": 44,
   "metadata": {},
   "outputs": [
    {
     "name": "stdout",
     "output_type": "stream",
     "text": [
      "Name          Maxwell\n",
      "Age                19\n",
      "Nationality     Indian\n"
     ]
    }
   ],
   "source": [
    "print(f\"{'Name':10} {'Maxwell':>10}\")\n",
    "print(f\"{'Age':10} {'19':>10}\")\n",
    "print(f\"{'Nationality':10} {'Indian':>10}\")"
   ]
  },
  {
   "cell_type": "code",
   "execution_count": 45,
   "metadata": {},
   "outputs": [
    {
     "name": "stdout",
     "output_type": "stream",
     "text": [
      "10-20-30\n"
     ]
    }
   ],
   "source": [
    "x=10\n",
    "y=20\n",
    "z=30\n",
    "print(x,y,z,sep=\"-\")"
   ]
  },
  {
   "cell_type": "code",
   "execution_count": 46,
   "metadata": {},
   "outputs": [
    {
     "name": "stdout",
     "output_type": "stream",
     "text": [
      "Name        Anonymous\n",
      "Age                19\n",
      "occupation    Service\n"
     ]
    }
   ],
   "source": [
    "print(f\"{'Name':<10} {'Anonymous':>10}\")\n",
    "print(f\"{'Age':<10} {'19':>10}\")\n",
    "print(f\"{'occupation':<10} {'Service':>10}\")"
   ]
  },
  {
   "cell_type": "code",
   "execution_count": 56,
   "metadata": {},
   "outputs": [
    {
     "name": "stdout",
     "output_type": "stream",
     "text": [
      "The hyptonuse for length 10.12 and height 20.12 \n",
      "will be 22.53\n"
     ]
    }
   ],
   "source": [
    "len, hei=input(\"Enter both the sides: \").split()\n",
    "len1=float(len)\n",
    "hei1=float(hei)\n",
    "hypt= (len1**2 + hei1**2)**0.5\n",
    "print(f\"The hyptonuse for length {len1:.2f} and height {hei1:.2f} \\nwill be {hypt:.2f}\")"
   ]
  },
  {
   "cell_type": "code",
   "execution_count": 1,
   "metadata": {},
   "outputs": [
    {
     "name": "stdout",
     "output_type": "stream",
     "text": [
      "by multiplying 10.23 by 45.32 we get 463.84\n"
     ]
    }
   ],
   "source": [
    "a=10.2345\n",
    "b=45.321\n",
    "c=a*b\n",
    "print(f'by multiplying {a:.2f} by {b:.2f} we get {c:.2f}')"
   ]
  },
  {
   "cell_type": "code",
   "execution_count": 2,
   "metadata": {},
   "outputs": [
    {
     "name": "stdout",
     "output_type": "stream",
     "text": [
      "The division of 10.24 by 12.37 will give 0.83\n"
     ]
    }
   ],
   "source": [
    "a=input(\"Enter first number:\")\n",
    "b=input(\"Enter second number:\")\n",
    "a1=float(a)\n",
    "b1=float(b)\n",
    "c=a1/b1\n",
    "print(f'The division of {a1:.2f} by {b1:.2f} will give {c:.2f}')"
   ]
  },
  {
   "cell_type": "code",
   "execution_count": 6,
   "metadata": {},
   "outputs": [
    {
     "name": "stdout",
     "output_type": "stream",
     "text": [
      "Name          Andrew\n",
      "Age               19\n",
      "City       Amsterdam\n",
      "Country   Netherlands\n"
     ]
    }
   ],
   "source": [
    "print(f\"{'Name':<10}{'Andrew':>10}\")\n",
    "print(f\"{'Age':<10}{'19':>10}\")\n",
    "print(f\"{'City':<10}{'Amsterdam':>10}\")\n",
    "print(f\"{'Country':<10}{'Netherlands':>10}\")"
   ]
  },
  {
   "cell_type": "code",
   "execution_count": 8,
   "metadata": {},
   "outputs": [
    {
     "name": "stdout",
     "output_type": "stream",
     "text": [
      "      NAME     Smith\n",
      "       AGE        29\n",
      "      CITY   Seattle\n",
      "   COUNTRY       USA\n"
     ]
    }
   ],
   "source": [
    "name=input(\"Enter the name\")\n",
    "age=input(\"Enter the age\")\n",
    "city=input(\"Enter the city\")\n",
    "country=input(\"Enter the country\")\n",
    "print(f\"{'NAME':>10}{name:>10}\")\n",
    "print(f\"{'AGE':>10}{age:>10}\")\n",
    "print(f\"{'CITY':>10}{city:>10}\")\n",
    "print(f\"{'COUNTRY':>10}{country:>10}\")"
   ]
  },
  {
   "cell_type": "code",
   "execution_count": 9,
   "metadata": {},
   "outputs": [
    {
     "name": "stdout",
     "output_type": "stream",
     "text": [
      "      NAME     Smith\n",
      "       AGE        29\n",
      "      CITY   Seattle\n",
      "   COUNTRY       USA\n"
     ]
    }
   ],
   "source": [
    "name,age,city,country=input(\"Enter the details\").split()\n",
    "print(f\"{'NAME':>10}{name:>10}\")\n",
    "print(f\"{'AGE':>10}{age:>10}\")\n",
    "print(f\"{'CITY':>10}{city:>10}\")\n",
    "print(f\"{'COUNTRY':>10}{country:>10}\")"
   ]
  },
  {
   "cell_type": "code",
   "execution_count": null,
   "metadata": {},
   "outputs": [],
   "source": []
  }
 ],
 "metadata": {
  "kernelspec": {
   "display_name": "base",
   "language": "python",
   "name": "python3"
  },
  "language_info": {
   "codemirror_mode": {
    "name": "ipython",
    "version": 3
   },
   "file_extension": ".py",
   "mimetype": "text/x-python",
   "name": "python",
   "nbconvert_exporter": "python",
   "pygments_lexer": "ipython3",
   "version": "3.10.10"
  },
  "orig_nbformat": 4
 },
 "nbformat": 4,
 "nbformat_minor": 2
}
