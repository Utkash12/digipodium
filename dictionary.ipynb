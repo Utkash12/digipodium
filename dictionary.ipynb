{
 "cells": [
  {
   "cell_type": "code",
   "execution_count": 4,
   "metadata": {},
   "outputs": [
    {
     "name": "stdout",
     "output_type": "stream",
     "text": [
      "{'first name': 'Rajesh', 'last name': 'Kumar', 'age': 25, 'address': {'house no': 123, 'street': 'xyz', 'city': 'Bangalore', 'state': 'Karnataka'}}\n",
      "Rajesh\n",
      "Bangalore\n",
      "{'house no': 123, 'street': 'xyz', 'city': 'Bangalore', 'state': 'Karnataka'}\n"
     ]
    }
   ],
   "source": [
    "raju={\n",
    "    'first name': 'Rajesh',\n",
    "    'last name': 'Kumar',\n",
    "    'age': 25,\n",
    "    'address':{\n",
    "        'house no': 123,\n",
    "        'street': 'xyz',\n",
    "        'city': 'Bangalore',\n",
    "        'state': 'Karnataka',\n",
    "    }\n",
    "}\n",
    "print(raju)\n",
    "print(raju['first name'])\n",
    "print(raju['address']['city']) \n",
    "print(raju['address'])"
   ]
  },
  {
   "cell_type": "code",
   "execution_count": 4,
   "metadata": {},
   "outputs": [
    {
     "name": "stdout",
     "output_type": "stream",
     "text": [
      "None\n"
     ]
    }
   ],
   "source": [
    "print(raju.get('middle name'))"
   ]
  },
  {
   "cell_type": "code",
   "execution_count": 5,
   "metadata": {},
   "outputs": [
    {
     "name": "stdout",
     "output_type": "stream",
     "text": [
      "not found\n"
     ]
    }
   ],
   "source": [
    "print(raju.get('middle name', 'not found'))"
   ]
  },
  {
   "cell_type": "code",
   "execution_count": 6,
   "metadata": {},
   "outputs": [
    {
     "name": "stdout",
     "output_type": "stream",
     "text": [
      "dict_keys(['first name', 'last name', 'age', 'address'])\n"
     ]
    }
   ],
   "source": [
    "print(raju.keys())"
   ]
  },
  {
   "cell_type": "code",
   "execution_count": 7,
   "metadata": {},
   "outputs": [
    {
     "name": "stdout",
     "output_type": "stream",
     "text": [
      "dict_values(['Rajesh', 'Kumar', 25, {'house no': 123, 'street': 'xyz', 'city': 'Bangalore', 'state': 'Karnataka'}])\n"
     ]
    }
   ],
   "source": [
    "print(raju.values())"
   ]
  },
  {
   "cell_type": "code",
   "execution_count": 8,
   "metadata": {},
   "outputs": [
    {
     "name": "stdout",
     "output_type": "stream",
     "text": [
      "dict_items([('first name', 'Rajesh'), ('last name', 'Kumar'), ('age', 25), ('address', {'house no': 123, 'street': 'xyz', 'city': 'Bangalore', 'state': 'Karnataka'})])\n"
     ]
    }
   ],
   "source": [
    "print(raju.items())"
   ]
  },
  {
   "cell_type": "code",
   "execution_count": 1,
   "metadata": {},
   "outputs": [
    {
     "ename": "NameError",
     "evalue": "name 'raju' is not defined",
     "output_type": "error",
     "traceback": [
      "\u001b[1;31m---------------------------------------------------------------------------\u001b[0m",
      "\u001b[1;31mNameError\u001b[0m                                 Traceback (most recent call last)",
      "Cell \u001b[1;32mIn[1], line 1\u001b[0m\n\u001b[1;32m----> 1\u001b[0m \u001b[39mprint\u001b[39m(raju[\u001b[39m'\u001b[39m\u001b[39mmiddle name\u001b[39m\u001b[39m'\u001b[39m])\n",
      "\u001b[1;31mNameError\u001b[0m: name 'raju' is not defined"
     ]
    }
   ],
   "source": [
    "print(raju['middle name'])"
   ]
  },
  {
   "cell_type": "code",
   "execution_count": 18,
   "metadata": {},
   "outputs": [
    {
     "name": "stdout",
     "output_type": "stream",
     "text": [
      "{'first name': 'Rajesh', 'last name': 'Kumar', 'address': {'house no': 123, 'street': 'xyz', 'city': 'Bangalore', 'state': 'Karnataka'}, 'age': 26}\n"
     ]
    }
   ],
   "source": [
    "raju['age']=26\n",
    "print(raju)"
   ]
  },
  {
   "cell_type": "code",
   "execution_count": 19,
   "metadata": {},
   "outputs": [
    {
     "name": "stdout",
     "output_type": "stream",
     "text": [
      "26\n"
     ]
    }
   ],
   "source": [
    "print(raju.pop('age'))"
   ]
  },
  {
   "cell_type": "code",
   "execution_count": 5,
   "metadata": {},
   "outputs": [
    {
     "name": "stdout",
     "output_type": "stream",
     "text": [
      "{'first name': 'Rajesh', 'last name': 'Kumar', 'age': 25, 'address': {'house no': 123, 'street': 'xyz', 'city': 'Bangalore', 'state': 'Karnataka'}}\n"
     ]
    }
   ],
   "source": [
    "print(raju)"
   ]
  },
  {
   "cell_type": "code",
   "execution_count": 6,
   "metadata": {},
   "outputs": [
    {
     "name": "stdout",
     "output_type": "stream",
     "text": [
      "{'first name': 'Rajesh', 'last name': 'Kumar', 'age': 25, 'address': {'house no': 123, 'street': 'xyz', 'city': 'Bangalore', 'state': 'Karnataka', 'country': 'India'}, 'middle name': 'Arun', 'phone': '1234567890'}\n"
     ]
    }
   ],
   "source": [
    "raju['middle name']='Arun'\n",
    "raju['address']['country']='India'\n",
    "raju['phone']= '1234567890'\n",
    "print(raju)"
   ]
  },
  {
   "cell_type": "code",
   "execution_count": 7,
   "metadata": {},
   "outputs": [
    {
     "name": "stdout",
     "output_type": "stream",
     "text": [
      "first name\n",
      "last name\n",
      "age\n",
      "address\n",
      "middle name\n",
      "phone\n"
     ]
    }
   ],
   "source": [
    "for key in raju:\n",
    "    print(key)"
   ]
  },
  {
   "cell_type": "code",
   "execution_count": 8,
   "metadata": {},
   "outputs": [
    {
     "name": "stdout",
     "output_type": "stream",
     "text": [
      "Rajesh\n",
      "Kumar\n",
      "25\n",
      "{'house no': 123, 'street': 'xyz', 'city': 'Bangalore', 'state': 'Karnataka', 'country': 'India'}\n",
      "Arun\n",
      "1234567890\n"
     ]
    }
   ],
   "source": [
    "for value in raju.values():\n",
    "    print(value)"
   ]
  },
  {
   "cell_type": "code",
   "execution_count": 9,
   "metadata": {},
   "outputs": [
    {
     "name": "stdout",
     "output_type": "stream",
     "text": [
      "first name Rajesh\n",
      "last name Kumar\n",
      "age 25\n",
      "address {'house no': 123, 'street': 'xyz', 'city': 'Bangalore', 'state': 'Karnataka', 'country': 'India'}\n",
      "middle name Arun\n",
      "phone 1234567890\n"
     ]
    }
   ],
   "source": [
    "for k,v in raju.items():\n",
    "    print(k,v)"
   ]
  },
  {
   "cell_type": "code",
   "execution_count": 14,
   "metadata": {},
   "outputs": [],
   "source": [
    "# cretae a dictionary of 5 employees of account dept in a ACME company\n",
    "acme={\n",
    "    'accounts':{\n",
    "    }\n",
    "}\n",
    "\n",
    "for i in range(5):\n",
    "    name=input('Enter name: ')\n",
    "    desig=input('Enter designation: ')\n",
    "    sal=int(input('Enter salary: '))\n",
    "    acme['accounts'][f'emp{i}']={\n",
    "        'name': name,\n",
    "        'designation': desig,\n",
    "        'salary': sal, \n",
    "    }"
   ]
  },
  {
   "cell_type": "code",
   "execution_count": 15,
   "metadata": {},
   "outputs": [],
   "source": [
    "from pprint import pp"
   ]
  },
  {
   "cell_type": "code",
   "execution_count": 16,
   "metadata": {},
   "outputs": [
    {
     "name": "stdout",
     "output_type": "stream",
     "text": [
      "{'accounts': {'emp0': {'name': 'praveen', 'designation': 'os', 'salary': 10000},\n",
      "              'emp1': {'name': 'suyash',\n",
      "                       'designation': 'chos',\n",
      "                       'salary': 400000},\n",
      "              'emp2': {'name': 'ayushi', 'designation': 'xyz', 'salary': 30000},\n",
      "              'emp3': {'name': 'shraddha',\n",
      "                       'designation': 'mr',\n",
      "                       'salary': 50000},\n",
      "              'emp4': {'name': 'summit',\n",
      "                       'designation': 'cwm',\n",
      "                       'salary': 20000}}}\n"
     ]
    }
   ],
   "source": [
    "pp(acme)"
   ]
  },
  {
   "cell_type": "code",
   "execution_count": 19,
   "metadata": {},
   "outputs": [
    {
     "name": "stdout",
     "output_type": "stream",
     "text": [
      "510000\n"
     ]
    }
   ],
   "source": [
    "salary=0\n",
    "for i in range(len(acme['accounts'])):\n",
    "   acme['accounts'][f'emp{i}']['salary']\n",
    "   salary=salary+acme['accounts'][f'emp{i}']['salary']\n",
    "print(salary)"
   ]
  },
  {
   "cell_type": "code",
   "execution_count": 23,
   "metadata": {},
   "outputs": [],
   "source": [
    "# create a contact dictionary and\n",
    "# let user check if a contact exists or not\n",
    "# if yes, print the conatct details\n",
    "# if no, ask user to add the contact\n",
    "contacts={'Police': 112}\n",
    "while True:\n",
    "    contact_name=input('Enter contact name: ')\n",
    "    if contact_name in contacts:\n",
    "        print('found contact')\n",
    "        print('name', contact_name)\n",
    "        print('number', contacts[contact_name])\n",
    "    elif contact_name =='exit':\n",
    "        break\n",
    "    else:\n",
    "        print('contact not found')\n",
    "        print('add contact')\n",
    "        contact_number=input('Enter contact number: ')\n",
    "        contacts[contact_name]=contact_number\n",
    "        print('contact added')"
   ]
  },
  {
   "cell_type": "code",
   "execution_count": null,
   "metadata": {},
   "outputs": [],
   "source": []
  }
 ],
 "metadata": {
  "kernelspec": {
   "display_name": "base",
   "language": "python",
   "name": "python3"
  },
  "language_info": {
   "codemirror_mode": {
    "name": "ipython",
    "version": 3
   },
   "file_extension": ".py",
   "mimetype": "text/x-python",
   "name": "python",
   "nbconvert_exporter": "python",
   "pygments_lexer": "ipython3",
   "version": "3.10.10"
  },
  "orig_nbformat": 4
 },
 "nbformat": 4,
 "nbformat_minor": 2
}
