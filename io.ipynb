{
 "cells": [
  {
   "cell_type": "code",
   "execution_count": 1,
   "metadata": {},
   "outputs": [],
   "source": [
    "name= input(\"Enter your name: \")\n",
    "city= input(\"Enter your city: \")"
   ]
  },
  {
   "cell_type": "code",
   "execution_count": 2,
   "metadata": {},
   "outputs": [
    {
     "data": {
      "text/plain": [
       "30"
      ]
     },
     "execution_count": 2,
     "metadata": {},
     "output_type": "execute_result"
    }
   ],
   "source": [
    "a=10\n",
    "b=20\n",
    "a+b"
   ]
  },
  {
   "cell_type": "code",
   "execution_count": 3,
   "metadata": {},
   "outputs": [
    {
     "name": "stdout",
     "output_type": "stream",
     "text": [
      "Sum of two numbers is:  30\n"
     ]
    }
   ],
   "source": [
    "x=int(input(\"Enter first number: \"))\n",
    "y=int(input(\"Enter second number: \"))\n",
    "print(\"Sum of two numbers is: \",x+y)"
   ]
  },
  {
   "cell_type": "code",
   "execution_count": 4,
   "metadata": {},
   "outputs": [
    {
     "data": {
      "text/plain": [
       "10"
      ]
     },
     "execution_count": 4,
     "metadata": {},
     "output_type": "execute_result"
    }
   ],
   "source": [
    "a='10'\n",
    "int(a)"
   ]
  },
  {
   "cell_type": "code",
   "execution_count": 5,
   "metadata": {},
   "outputs": [],
   "source": [
    "p=int(input(\"Enter principle amount: \"))\n",
    "r=float(input(\"Enter rate of interest: \"))\n",
    "t=int(input(\"Enter time: \"))\n",
    "si=p*r*t/100"
   ]
  },
  {
   "cell_type": "code",
   "execution_count": 6,
   "metadata": {},
   "outputs": [],
   "source": [
    "a=int(input(\"Enter first number: \"))"
   ]
  },
  {
   "cell_type": "code",
   "execution_count": 7,
   "metadata": {},
   "outputs": [
    {
     "name": "stdout",
     "output_type": "stream",
     "text": [
      "this is a string\n"
     ]
    }
   ],
   "source": [
    "print(\"this is a string\")"
   ]
  },
  {
   "cell_type": "code",
   "execution_count": 8,
   "metadata": {},
   "outputs": [
    {
     "name": "stdout",
     "output_type": "stream",
     "text": [
      "10\n",
      "20\n",
      "10\n",
      "20\n",
      "5000\n",
      "4.0\n",
      "3\n"
     ]
    }
   ],
   "source": [
    "print(a,b,x,y,p,r,t,sep=\"\\n\")"
   ]
  },
  {
   "cell_type": "code",
   "execution_count": 9,
   "metadata": {},
   "outputs": [
    {
     "name": "stdout",
     "output_type": "stream",
     "text": [
      "hi there\n"
     ]
    }
   ],
   "source": [
    "print('hi', end=\" \")\n",
    "print(\"there\")"
   ]
  },
  {
   "cell_type": "code",
   "execution_count": 10,
   "metadata": {},
   "outputs": [
    {
     "name": "stdout",
     "output_type": "stream",
     "text": [
      "adding 10 and 20 gives 30\n"
     ]
    }
   ],
   "source": [
    "print(f'adding {x} and {y} gives {x+y}')"
   ]
  },
  {
   "cell_type": "code",
   "execution_count": 11,
   "metadata": {},
   "outputs": [
    {
     "name": "stdout",
     "output_type": "stream",
     "text": [
      "10 divided by 3 gives 3.3333333333333335\n"
     ]
    }
   ],
   "source": [
    "a=10\n",
    "b=3\n",
    "print(f'{a} divided by {b} gives {a/b}')"
   ]
  },
  {
   "cell_type": "code",
   "execution_count": 12,
   "metadata": {},
   "outputs": [
    {
     "name": "stdout",
     "output_type": "stream",
     "text": [
      "10 divided by 3 gives 3.33\n"
     ]
    }
   ],
   "source": [
    "a=10\n",
    "b=3\n",
    "print(f'{a} divided by {b} gives {a/b:.2f}')"
   ]
  },
  {
   "cell_type": "code",
   "execution_count": 13,
   "metadata": {},
   "outputs": [
    {
     "name": "stdout",
     "output_type": "stream",
     "text": [
      "10 divided by 3 gives 3.33333333333333348136306995002087205648422241210937500000000000000000000000000000000000000000000000000000000000000000000000000000000000000000000000000000000000000000000000000000000000000000000000000000\n"
     ]
    }
   ],
   "source": [
    "a=10\n",
    "b=3\n",
    "print(f'{a} divided by {b} gives {a/b:.200f}')"
   ]
  },
  {
   "cell_type": "code",
   "execution_count": 14,
   "metadata": {},
   "outputs": [
    {
     "name": "stdout",
     "output_type": "stream",
     "text": [
      "name     utkarsh\n",
      "city     lucknow\n",
      "age      20\n",
      "address  krishna nagar\n"
     ]
    }
   ],
   "source": [
    "age=20\n",
    "address=\"krishna nagar\"\n",
    "print(f'name     {name}')\n",
    "print(f'city     {city}')\n",
    "print(f'age      {age}')\n",
    "print(f'address  {address}')"
   ]
  },
  {
   "cell_type": "code",
   "execution_count": 15,
   "metadata": {},
   "outputs": [
    {
     "name": "stdout",
     "output_type": "stream",
     "text": [
      "name                    utkarsh\n",
      "city                    lucknow\n",
      "age                          20\n",
      "address           krishna nagar\n"
     ]
    }
   ],
   "source": [
    "print(f'{\"name\":10} {name:>20}')\n",
    "print(f'{\"city\":10} {city:>20}')\n",
    "print(f'{\"age\":10} {age:>20}')\n",
    "print(f'{\"address\":10} {address:>20}')"
   ]
  },
  {
   "cell_type": "code",
   "execution_count": 16,
   "metadata": {},
   "outputs": [
    {
     "name": "stdout",
     "output_type": "stream",
     "text": [
      "name             utkarsh       \n",
      "city             lucknow       \n",
      "age                 20         \n",
      "address       krishna nagar    \n"
     ]
    }
   ],
   "source": [
    "print(f'{\"name\":10} {name:^20}')\n",
    "print(f'{\"city\":10} {city:^20}')\n",
    "print(f'{\"age\":10} {age:^20}')\n",
    "print(f'{\"address\":10} {address:^20}')"
   ]
  },
  {
   "cell_type": "code",
   "execution_count": null,
   "metadata": {},
   "outputs": [
    {
     "name": "stdout",
     "output_type": "stream",
     "text": [
      "length                     20.0\n",
      "breadth                    40.0\n",
      "hypotenuse                44.72\n"
     ]
    }
   ],
   "source": [
    "x=float(input(\" Enter length: \"))\n",
    "y=float(input(\" Enter breadth: \"))\n",
    "z=x**2+y**2\n",
    "hyp=z**0.5\n",
    "print(f'{\"length\":10} {x:>20}')\n",
    "print(f'{\"breadth\":10} {y:>20}')\n",
    "print(f'{\"hypotenuse\":10} {hyp:>20.2f}')"
   ]
  },
  {
   "cell_type": "code",
   "execution_count": null,
   "metadata": {},
   "outputs": [],
   "source": []
  }
 ],
 "metadata": {
  "kernelspec": {
   "display_name": "base",
   "language": "python",
   "name": "python3"
  },
  "language_info": {
   "codemirror_mode": {
    "name": "ipython",
    "version": 3
   },
   "file_extension": ".py",
   "mimetype": "text/x-python",
   "name": "python",
   "nbconvert_exporter": "python",
   "pygments_lexer": "ipython3",
   "version": "3.10.10"
  },
  "orig_nbformat": 4
 },
 "nbformat": 4,
 "nbformat_minor": 2
}
